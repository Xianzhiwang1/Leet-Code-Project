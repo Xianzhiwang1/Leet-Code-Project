{
 "cells": [
  {
   "cell_type": "raw",
   "metadata": {},
   "source": [
    "---\n",
    "title: (Leet Code Problem 58) Length of Last Word and More Problems\n",
    "author: ShawnZ \n",
    "date: '2024-01-14'\n",
    "description: \"solution to Leet Code problem 58 and more.\"\n",
    "format: html\n",
    "---"
   ]
  },
  {
   "cell_type": "code",
   "execution_count": 27,
   "metadata": {},
   "outputs": [
    {
     "name": "stdout",
     "output_type": "stream",
     "text": [
      "The autoreload extension is already loaded. To reload it, use:\n",
      "  %reload_ext autoreload\n"
     ]
    }
   ],
   "source": [
    "%load_ext autoreload\n",
    "%autoreload 2"
   ]
  },
  {
   "cell_type": "markdown",
   "metadata": {},
   "source": [
    "#### Some Leet Code problems \n",
    "The source code of our implementation could be found in this [directory](https://github.com/Xianzhiwang1/Leet-Code-Project/tree/main/posts/blog-05-len-of-last-word) on github along with this blog post."
   ]
  },
  {
   "cell_type": "code",
   "execution_count": 28,
   "metadata": {},
   "outputs": [],
   "source": [
    "from main import *"
   ]
  },
  {
   "cell_type": "code",
   "execution_count": 29,
   "metadata": {},
   "outputs": [
    {
     "name": "stdout",
     "output_type": "stream",
     "text": [
      "inverted string:    gwad gib a si siht\n",
      "length of entire string: 21\n",
      "length of last word: 4\n"
     ]
    }
   ],
   "source": [
    "# problem 58 length of last word\n",
    "mystring = \"this is a big dawg   \"\n",
    "print(f\"inverted string: {mystring[::-1]}\")\n",
    "print(f\"length of entire string: {len(mystring)}\")\n",
    "mysoln = Solution()\n",
    "print(f\"length of last word: {mysoln.lengthOfLastWord(mystring)}\")"
   ]
  },
  {
   "cell_type": "code",
   "execution_count": 30,
   "metadata": {},
   "outputs": [
    {
     "name": "stdout",
     "output_type": "stream",
     "text": [
      "True\n",
      "False\n",
      "True\n",
      "False\n",
      "True\n",
      "True\n"
     ]
    }
   ],
   "source": [
    "# problem 9 Palindrome Number\n",
    "mysoln2 = Solution()\n",
    "myint = 115696511\n",
    "print(mysoln2.isPalindrome(myint))\n",
    "myint2 = 123923842\n",
    "print(mysoln2.isPalindrome(myint2))\n",
    "\n",
    "# using the second implementation\n",
    "print(mysoln2.isPalindromeII(myint))\n",
    "print(mysoln2.isPalindromeII(myint2))\n",
    "myint3 = 141\n",
    "myint4 = 5665\n",
    "print(mysoln2.isPalindromeII(myint3))\n",
    "print(mysoln2.isPalindromeII(myint4))"
   ]
  },
  {
   "cell_type": "code",
   "execution_count": 31,
   "metadata": {},
   "outputs": [
    {
     "name": "stdout",
     "output_type": "stream",
     "text": [
      "longest common prefix is: dog\n",
      "longest common prefix is: \n"
     ]
    }
   ],
   "source": [
    "# longest common prefix\n",
    "strs = [\"dog\", \"dogpoop\", \"dogfood\",\"dogday\"]\n",
    "strs2 = [\"bigdawg\", \"lildawg\", \"crib\", \"whip\", \"stack\"]\n",
    "print(f\"longest common prefix is: {mysoln2.longestCommonPrefix(strs)}\")\n",
    "print(f\"longest common prefix is: {mysoln2.longestCommonPrefix(strs2)}\")"
   ]
  },
  {
   "cell_type": "code",
   "execution_count": 32,
   "metadata": {},
   "outputs": [
    {
     "name": "stdout",
     "output_type": "stream",
     "text": [
      "[0, 1]\n",
      "[1, 2]\n",
      "[0, 1]\n"
     ]
    }
   ],
   "source": [
    "# two sum\n",
    "nums = [2,7,11,15]\n",
    "target = 9\n",
    "print(mysoln2.twoSum(nums, target))\n",
    "nums = [3,2,4]\n",
    "target = 6 \n",
    "print(mysoln2.twoSum(nums, target))\n",
    "nums = [3,3]\n",
    "target = 6 \n",
    "print(mysoln2.twoSum(nums, target))"
   ]
  },
  {
   "cell_type": "code",
   "execution_count": 33,
   "metadata": {},
   "outputs": [
    {
     "name": "stdout",
     "output_type": "stream",
     "text": [
      "0\n",
      "7\n",
      "4\n",
      "-1\n",
      "4\n",
      "2\n",
      "4\n",
      "-1\n"
     ]
    }
   ],
   "source": [
    "# 28 find index of the first occurrence in a string\n",
    "haystack = \"sadbutsad\"\n",
    "needle = \"sad\"\n",
    "print(mysoln2.strStrGOOD(haystack, needle))\n",
    "haystack = \"smilesasad\"\n",
    "needle = \"sad\"\n",
    "print(mysoln2.strStrGOOD(haystack, needle))\n",
    "haystack = \"leetcode\"\n",
    "needle = \"code\"\n",
    "print(mysoln2.strStrGOOD(haystack, needle))\n",
    "haystack = \"leetcode\"\n",
    "needle = \"leeto\"\n",
    "print(mysoln2.strStrGOOD(haystack, needle))\n",
    "haystack = \"busbbustdown\"\n",
    "needle = \"bust\"\n",
    "print(mysoln2.strStrGOOD(haystack, needle))\n",
    "haystack = \"busbbustdown\"\n",
    "needle = \"s\"\n",
    "print(mysoln2.strStrGOOD(haystack, needle))\n",
    "haystack = \"mississippi\"\n",
    "needle = \"issip\"\n",
    "print(mysoln2.strStrGOOD(haystack, needle))\n",
    "haystack = \"mississippi\"\n",
    "needle = \"issipi\"\n",
    "print(mysoln2.strStrGOOD(haystack, needle))"
   ]
  },
  {
   "cell_type": "code",
   "execution_count": 34,
   "metadata": {},
   "outputs": [],
   "source": [
    "# generate an image \n",
    "from matplotlib import pyplot as plt\n",
    "import numpy as np\n",
    "# np.random.random_integers(low,high,shape)\n",
    "M = np.random.randint(0,256, (5,7,3))"
   ]
  },
  {
   "cell_type": "code",
   "execution_count": 35,
   "metadata": {},
   "outputs": [
    {
     "data": {
      "text/plain": [
       "<matplotlib.image.AxesImage at 0x7f6cec6651d0>"
      ]
     },
     "execution_count": 35,
     "metadata": {},
     "output_type": "execute_result"
    },
    {
     "data": {
      "image/png": "[encoded data removed]",
      "text/plain": [
       "<Figure size 640x480 with 1 Axes>"
      ]
     },
     "metadata": {},
     "output_type": "display_data"
    }
   ],
   "source": [
    "# we just want an image for our blog entry\n",
    "plt.imshow(M, interpolation='none')"
   ]
  },
  {
   "cell_type": "code",
   "execution_count": null,
   "metadata": {},
   "outputs": [],
   "source": []
  }
 ],
 "metadata": {
  "kernelspec": {
   "display_name": "ml-0451",
   "language": "python",
   "name": "python3"
  },
  "language_info": {
   "codemirror_mode": {
    "name": "ipython",
    "version": 3
   },
   "file_extension": ".py",
   "mimetype": "text/x-python",
   "name": "python",
   "nbconvert_exporter": "python",
   "pygments_lexer": "ipython3",
   "version": "3.11.3"
  }
 },
 "nbformat": 4,
 "nbformat_minor": 2
}
