{
 "cells": [
  {
   "cell_type": "raw",
   "metadata": {},
   "source": [
    "---\n",
    "title: (Leet Code Problem) Add Binary Solution in Python\n",
    "author: Xianzhi Wang \n",
    "date: '2023-12-17'\n",
    "image: \"binary_number_watercolor.png\"\n",
    "description: \"solution to Leet Code problem Add Binary.\"\n",
    "format: html\n",
    "---"
   ]
  },
  {
   "attachments": {},
   "cell_type": "markdown",
   "metadata": {},
   "source": [
    "We need to take care of adding two digits together in binary, which is done mod `2`, and we also need to implement the \"carry\" term."
   ]
  },
  {
   "cell_type": "code",
   "execution_count": 1,
   "metadata": {},
   "outputs": [],
   "source": [
    "%load_ext autoreload\n",
    "%autoreload 2"
   ]
  },
  {
   "cell_type": "code",
   "execution_count": 2,
   "metadata": {},
   "outputs": [],
   "source": [
    "from source import *"
   ]
  },
  {
   "cell_type": "code",
   "execution_count": 3,
   "metadata": {},
   "outputs": [
    {
     "name": "stdout",
     "output_type": "stream",
     "text": [
      "10101\n",
      "100\n",
      "100000\n"
     ]
    }
   ],
   "source": [
    "soln_object = Solution()\n",
    "answer = soln_object.addBinary(\"1010\", \"1011\")\n",
    "print(answer)\n",
    "\n",
    "answer = soln_object.addBinary(\"11\", \"1\")\n",
    "print(answer)\n",
    "\n",
    "answer = soln_object.addBinary(\"11111\", \"1\")\n",
    "print(answer)\n",
    "\n",
    "\n"
   ]
  },
  {
   "attachments": {},
   "cell_type": "markdown",
   "metadata": {},
   "source": [
    "We need to sum up the $2^0$ th degit of the first number with the $2^0$ th degit of the second number, then sum up the $2^1$ th degit, and also have a `carry` term."
   ]
  },
  {
   "cell_type": "markdown",
   "metadata": {},
   "source": [
    "When we sum together $1$ and $1$ in binary, we get $0$ and `carry = 1`, so we need to do arithmetic mod $2$ . \n",
    "Then we use floor divide by $2$ to determine the carry term."
   ]
  },
  {
   "cell_type": "code",
   "execution_count": 4,
   "metadata": {},
   "outputs": [
    {
     "name": "stdout",
     "output_type": "stream",
     "text": [
      "1\n"
     ]
    }
   ],
   "source": [
    "# use mod 2 to compute the digit\n",
    "x = 1 % 2\n",
    "print(x)"
   ]
  },
  {
   "cell_type": "code",
   "execution_count": 5,
   "metadata": {},
   "outputs": [
    {
     "name": "stdout",
     "output_type": "stream",
     "text": [
      "0\n",
      "1\n",
      "1\n"
     ]
    }
   ],
   "source": [
    "# use floor divide for the carry term\n",
    "x = 1 // 2\n",
    "y = 3 // 2\n",
    "z = 2 // 2\n",
    "print(x)\n",
    "print(y)\n",
    "print(z)"
   ]
  },
  {
   "cell_type": "code",
   "execution_count": null,
   "metadata": {},
   "outputs": [],
   "source": [
    "\n"
   ]
  }
 ],
 "metadata": {
  "kernelspec": {
   "display_name": "Python 3.9.15 ('ml-0451')",
   "language": "python",
   "name": "python3"
  },
  "language_info": {
   "codemirror_mode": {
    "name": "ipython",
    "version": 3
   },
   "file_extension": ".py",
   "mimetype": "text/x-python",
   "name": "python",
   "nbconvert_exporter": "python",
   "pygments_lexer": "ipython3",
   "version": "3.11.3"
  },
  "orig_nbformat": 4,
  "vscode": {
   "interpreter": {
    "hash": "debe06cc0f9553f110b64dc3926c05df82dae2145b852c8422b9c04315589dcb"
   }
  }
 },
 "nbformat": 4,
 "nbformat_minor": 2
}
