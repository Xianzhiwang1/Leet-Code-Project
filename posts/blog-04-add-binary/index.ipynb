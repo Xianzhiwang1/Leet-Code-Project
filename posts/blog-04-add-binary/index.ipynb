{
 "cells": [
  {
   "cell_type": "raw",
   "metadata": {},
   "source": [
    "---\n",
    "title: (Leet Code Problem) Add Binary Solution in Python\n",
    "author: Xianzhi Wang \n",
    "date: '2023-12-17'\n",
    "image: \"binary_number_watercolor.png\"\n",
    "description: \"solution to Leet Code problem Add Binary and more.\"\n",
    "format: html\n",
    "---"
   ]
  },
  {
   "attachments": {},
   "cell_type": "markdown",
   "metadata": {},
   "source": [
    "#### Some Leet Code problems \n",
    "The source code of our implementation could be found in this [directory](https://github.com/Xianzhiwang1/Leet-Code-Project/tree/main/posts/blog-04-add-binary) on github along with this blog post.\n",
    "#### Add Binary\n",
    "We need to take care of adding two digits together in binary, which is done mod `2`, and we also need to implement the \"carry\" term."
   ]
  },
  {
   "cell_type": "code",
   "execution_count": 1,
   "metadata": {},
   "outputs": [],
   "source": [
    "%load_ext autoreload\n",
    "%autoreload 2"
   ]
  },
  {
   "cell_type": "code",
   "execution_count": 2,
   "metadata": {},
   "outputs": [],
   "source": [
    "from source import *"
   ]
  },
  {
   "cell_type": "code",
   "execution_count": 3,
   "metadata": {},
   "outputs": [
    {
     "name": "stdout",
     "output_type": "stream",
     "text": [
      "10101\n",
      "100\n",
      "100000\n"
     ]
    }
   ],
   "source": [
    "soln_object = Solution()\n",
    "answer = soln_object.addBinary(\"1010\", \"1011\")\n",
    "print(answer)\n",
    "\n",
    "answer = soln_object.addBinary(\"11\", \"1\")\n",
    "print(answer)\n",
    "\n",
    "answer = soln_object.addBinary(\"11111\", \"1\")\n",
    "print(answer)\n",
    "\n",
    "\n"
   ]
  },
  {
   "attachments": {},
   "cell_type": "markdown",
   "metadata": {},
   "source": [
    "We need to sum up the $2^0$ th degit of the first number with the $2^0$ th degit of the second number, then sum up the $2^1$ th degit, and also have a `carry` term."
   ]
  },
  {
   "cell_type": "markdown",
   "metadata": {},
   "source": [
    "When we sum together $1$ and $1$ in binary, we get $0$ and `carry = 1`, so we need to do arithmetic mod $2$ . \n",
    "Then we use floor divide by $2$ to determine the carry term."
   ]
  },
  {
   "cell_type": "code",
   "execution_count": 4,
   "metadata": {},
   "outputs": [
    {
     "name": "stdout",
     "output_type": "stream",
     "text": [
      "1\n"
     ]
    }
   ],
   "source": [
    "# use mod 2 to compute the digit\n",
    "x = 1 % 2\n",
    "print(x)"
   ]
  },
  {
   "cell_type": "code",
   "execution_count": 5,
   "metadata": {},
   "outputs": [
    {
     "name": "stdout",
     "output_type": "stream",
     "text": [
      "0\n",
      "1\n",
      "1\n"
     ]
    }
   ],
   "source": [
    "# use floor divide for the carry term\n",
    "x = 1 // 2\n",
    "y = 3 // 2\n",
    "z = 2 // 2\n",
    "print(x)\n",
    "print(y)\n",
    "print(z)"
   ]
  },
  {
   "cell_type": "code",
   "execution_count": 10,
   "metadata": {},
   "outputs": [
    {
     "name": "stdout",
     "output_type": "stream",
     "text": [
      "[1, 2, 2, 3, 5, 6]\n",
      "[1, 2, 5, 5, 6, 7, 8]\n"
     ]
    }
   ],
   "source": [
    "# 88 Merge Sorted Array\n",
    "num1 = [1,2,3,0,0,0]\n",
    "m = 3\n",
    "num2 = [2,5,6]\n",
    "n = 3\n",
    "soln2 = Solution()\n",
    "soln2.merge(num1, m, num2, n)\n",
    "print(num1)\n",
    "# another test\n",
    "num1 = [5,5,6,7,0,0,0]\n",
    "m = 4 \n",
    "num2 = [1,2,8]\n",
    "n = 3\n",
    "soln2 = Solution()\n",
    "soln2.merge(num1, m, num2, n)\n",
    "print(num1)"
   ]
  },
  {
   "cell_type": "code",
   "execution_count": 14,
   "metadata": {},
   "outputs": [
    {
     "name": "stdout",
     "output_type": "stream",
     "text": [
      "2\n",
      "3\n",
      "4\n",
      "6\n"
     ]
    }
   ],
   "source": [
    "# 69 Sqrt(x)\n",
    "x = 8\n",
    "print(soln2.mySqrt(x))\n",
    "x = 11\n",
    "print(soln2.mySqrt(x))\n",
    "x = 16\n",
    "print(soln2.mySqrt(x))\n",
    "x = 48 \n",
    "print(soln2.mySqrt(x))"
   ]
  },
  {
   "cell_type": "code",
   "execution_count": 20,
   "metadata": {},
   "outputs": [
    {
     "name": "stdout",
     "output_type": "stream",
     "text": [
      "2\n",
      "1\n",
      "4\n",
      "0\n"
     ]
    }
   ],
   "source": [
    "# 35 search insert position\n",
    "nums=[1,3,5,6]\n",
    "target = 5\n",
    "print(soln2.searchInsert(nums, target))\n",
    "nums=[1,3,5,6]\n",
    "target = 2 \n",
    "print(soln2.searchInsert(nums, target))\n",
    "nums=[1,3,5,6]\n",
    "target = 7 \n",
    "print(soln2.searchInsert(nums, target))\n",
    "nums=[3,5,6,8,9]\n",
    "target = 2 \n",
    "print(soln2.searchInsert(nums, target))"
   ]
  },
  {
   "cell_type": "code",
   "execution_count": 23,
   "metadata": {},
   "outputs": [
    {
     "name": "stdout",
     "output_type": "stream",
     "text": [
      "2\n",
      "1\n",
      "4\n",
      "0\n"
     ]
    }
   ],
   "source": [
    "# log(n) runtime\n",
    "nums=[1,3,5,6]\n",
    "target = 5\n",
    "print(soln2.searchInsertII(nums, target))\n",
    "nums=[1,3,5,6]\n",
    "target = 2 \n",
    "print(soln2.searchInsertII(nums, target))\n",
    "nums=[1,3,5,6]\n",
    "target = 7 \n",
    "print(soln2.searchInsertII(nums, target))\n",
    "nums=[3,5,6,8,9]\n",
    "target = 2 \n",
    "print(soln2.searchInsertII(nums, target))"
   ]
  },
  {
   "cell_type": "code",
   "execution_count": null,
   "metadata": {},
   "outputs": [],
   "source": []
  }
 ],
 "metadata": {
  "kernelspec": {
   "display_name": "Python 3.9.15 ('ml-0451')",
   "language": "python",
   "name": "python3"
  },
  "language_info": {
   "codemirror_mode": {
    "name": "ipython",
    "version": 3
   },
   "file_extension": ".py",
   "mimetype": "text/x-python",
   "name": "python",
   "nbconvert_exporter": "python",
   "pygments_lexer": "ipython3",
   "version": "3.11.3"
  },
  "orig_nbformat": 4,
  "vscode": {
   "interpreter": {
    "hash": "debe06cc0f9553f110b64dc3926c05df82dae2145b852c8422b9c04315589dcb"
   }
  }
 },
 "nbformat": 4,
 "nbformat_minor": 2
}
