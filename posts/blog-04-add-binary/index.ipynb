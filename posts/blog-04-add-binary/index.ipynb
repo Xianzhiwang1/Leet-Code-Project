{
 "cells": [
  {
   "cell_type": "raw",
   "metadata": {},
   "source": [
    "---\n",
    "title: Leet Code Problem Add Binary Solution in Python\n",
    "author: Xianzhi Wang \n",
    "date: '2023-12-17'\n",
    "image: \"image.jpg\"\n",
    "description: \"solution to leet code problem add binary.\"\n",
    "format: html\n",
    "---"
   ]
  },
  {
   "attachments": {},
   "cell_type": "markdown",
   "metadata": {},
   "source": [
    "This is an example of the blog posts that you'll submit as your primary form of learning demonstration in CSCI 0451. I created this post by modifying the file `posts/example-blog-post/index.ipynb` in VSCode. You can also use JupyterLab for this editing if you prefer. Finally, it is possible to write blog posts without using notebooks by writing `.qmd` files, as illustrated [here](https://quarto.org/docs/get-started/hello/vscode.html). \n",
    "\n",
    "# Frontmatter\n",
    "\n",
    "Your notebook needs to contain some metadata: things like the title, author, date, etc. You specify this in a `raw` cell at the very beginning of the notebook. In this notebook, the contents of this cell is: \n",
    "\n",
    "```\n",
    "---\n",
    "title: Hello Blog\n",
    "author: Phil Chodrow\n",
    "date: '2023-01-10'\n",
    "image: \"image.jpg\"\n",
    "description: \"An example blog post illustrating the key techniques you'll need to demonstrate your learning in CSCI 0451.\"\n",
    "format: html\n",
    "---\n",
    "```\n",
    "\n",
    "Frontmatter can be fiddly (it's sensitive to spaces, for example), and so the best approach is usually to copy and paste it from previous blog posts, modifying it as appropriate. \n",
    "\n",
    "\n",
    "# Running Python Code\n",
    "\n",
    "To run Python code, place your code in a Python code block inside your notebook. You can run the code block inside VSCode (or JupyterLab) using the keyboard shortcut `ctrl + Enter`. You'll see the result of your computation below the code, including the value of the most recent statement. "
   ]
  },
  {
   "attachments": {},
   "cell_type": "markdown",
   "metadata": {},
   "source": [
    "We'll have lots of opportunities to make data visualizations in this course. These also display inside the notebook, and get converted into your blog post: "
   ]
  },
  {
   "attachments": {},
   "cell_type": "markdown",
   "metadata": {},
   "source": [
    "Another thing we'll often do is implement an algorithm in a source file (i.e. a `.py` file) and then *use* it in a notebook. To do this, just place the `.py` file in the same directory as the notebook. For example, the file `source.py` in the same directory contains a custom function (which prints a message). I can use like this: "
   ]
  },
  {
   "cell_type": "code",
   "execution_count": 3,
   "metadata": {},
   "outputs": [
    {
     "name": "stdout",
     "output_type": "stream",
     "text": [
      "I implemented this function in the file source.py\n"
     ]
    }
   ],
   "source": [
    "import source "
   ]
  },
  {
   "attachments": {},
   "cell_type": "markdown",
   "metadata": {},
   "source": [
    "# Markdown\n",
    "\n",
    "You can use Markdown syntax to write text in Markdown cells. Markdown allows you to create simple text formatting like bullets, italics, and section headers. The Quarto [description of markdown basics](https://quarto.org/docs/authoring/markdown-basics.html) has everything you need to get started. \n",
    "\n",
    "## Math\n",
    "\n",
    "In addition to regular text using the Markdown specification, you can also write mathematics, enclosed between dollar signs. The syntax for writing math is very similar to the syntax used in the $\\LaTeX$ markup language. For example, `$f(x) \\approx y$` renders to $f(x) \\approx y$. To place complex mathematical expressions on their own lines, use double dollar signs. For example, the expression \n",
    "\n",
    "`$$\\mathcal{L}(a, b) = \\sum_{i = 1}^n (ax_i + b - y_i)^2$$` \n",
    "\n",
    "renders to: \n",
    "\n",
    "$$\\mathcal{L}(a, b) = \\sum_{i = 1}^n (ax_i + b - y_i)^2\\;.$$\n",
    "\n",
    "Behind the scenes, math is powered by the MathJax engine. For more on how to write math, check this handy [tutorial and quick reference](https://math.meta.stackexchange.com/questions/5020/mathjax-basic-tutorial-and-quick-reference). "
   ]
  },
  {
   "cell_type": "markdown",
   "metadata": {},
   "source": []
  }
 ],
 "metadata": {
  "kernelspec": {
   "display_name": "Python 3.9.15 ('ml-0451')",
   "language": "python",
   "name": "python3"
  },
  "language_info": {
   "codemirror_mode": {
    "name": "ipython",
    "version": 3
   },
   "file_extension": ".py",
   "mimetype": "text/x-python",
   "name": "python",
   "nbconvert_exporter": "python",
   "pygments_lexer": "ipython3",
   "version": "3.9.15"
  },
  "orig_nbformat": 4,
  "vscode": {
   "interpreter": {
    "hash": "debe06cc0f9553f110b64dc3926c05df82dae2145b852c8422b9c04315589dcb"
   }
  }
 },
 "nbformat": 4,
 "nbformat_minor": 2
}
