{
 "cells": [
  {
   "cell_type": "raw",
   "metadata": {},
   "source": [
    "---\n",
    "title: ML Final Project \n",
    "author: Prateek and Xianzhi \n",
    "date: '2023-04-20'\n",
    "image: \"image.jpg\"\n",
    "description: \"Final Project on prediction of Incorporation using replication data file on Russian Historical Factory level data from Professor Gregg, Middlebury College, Vermont\"\n",
    "format: html\n",
    "---"
   ]
  },
  {
   "attachments": {},
   "cell_type": "markdown",
   "metadata": {},
   "source": [
    "The source code for this project could be found [here](https://github.com/Xianzhiwang1/ml-0451-final-proj). \n",
    "\n"
   ]
  },
  {
   "attachments": {},
   "cell_type": "markdown",
   "metadata": {},
   "source": [
    "# Rough skeleton code harvested from the penguin blog post for easy reference"
   ]
  },
  {
   "cell_type": "code",
   "execution_count": 1,
   "metadata": {},
   "outputs": [],
   "source": [
    "%load_ext autoreload\n",
    "%autoreload 2"
   ]
  },
  {
   "cell_type": "code",
   "execution_count": 2,
   "metadata": {},
   "outputs": [],
   "source": [
    "from matplotlib import pyplot as plt\n",
    "import numpy as np\n",
    "from final_project_code import FinalProject "
   ]
  },
  {
   "cell_type": "code",
   "execution_count": 3,
   "metadata": {},
   "outputs": [],
   "source": [
    "import pandas as pd\n",
    "\n",
    "train_url = \"https://raw.githubusercontent.com/middlebury-csci-0451/CSCI-0451/main/data/palmer-penguins/train.csv\"\n",
    "train = pd.read_csv(train_url)"
   ]
  },
  {
   "cell_type": "code",
   "execution_count": 4,
   "metadata": {},
   "outputs": [],
   "source": [
    "from sklearn.preprocessing import LabelEncoder\n",
    "le = LabelEncoder()\n",
    "le.fit(train[\"Species\"])\n",
    "FP = FinalProject()\n",
    "\n",
    "\n",
    "\n",
    "# X_train, y_train = FP.prepare_data(train)"
   ]
  },
  {
   "cell_type": "code",
   "execution_count": 5,
   "metadata": {},
   "outputs": [],
   "source": [
    "from itertools import combinations"
   ]
  },
  {
   "cell_type": "code",
   "execution_count": null,
   "metadata": {},
   "outputs": [],
   "source": []
  },
  {
   "cell_type": "code",
   "execution_count": 6,
   "metadata": {},
   "outputs": [],
   "source": [
    "from matplotlib.patches import Patch\n"
   ]
  },
  {
   "attachments": {},
   "cell_type": "markdown",
   "metadata": {},
   "source": [
    "# Predicting whether Russian Factories want to incorporate or not"
   ]
  },
  {
   "cell_type": "code",
   "execution_count": null,
   "metadata": {},
   "outputs": [],
   "source": []
  },
  {
   "attachments": {},
   "cell_type": "markdown",
   "metadata": {},
   "source": [
    "\n",
    "`$$\\mathcal{L}(a, b) = \\sum_{i = 1}^n (ax_i + b - y_i)^2$$` \n",
    "\n",
    "renders to: \n",
    "\n",
    "$$\\mathcal{L}(a, b) = \\sum_{i = 1}^n (ax_i + b - y_i)^2\\;.$$"
   ]
  },
  {
   "attachments": {},
   "cell_type": "markdown",
   "metadata": {},
   "source": [
    "# get the data in"
   ]
  },
  {
   "cell_type": "code",
   "execution_count": 7,
   "metadata": {},
   "outputs": [],
   "source": [
    "import pandas as pd\n",
    "\n",
    "# train_url = \"./../Vermont_farm_tables/1850Midd.csv\"\n",
    "# train = pd.read_csv(train_url)"
   ]
  },
  {
   "attachments": {},
   "cell_type": "markdown",
   "metadata": {},
   "source": [
    "We download the replication data set and put it in the same directory as our project. After we read in the data, we notice that there are $66$ columns, which means potentially we could have around $60$ features for our machine learning model. However, let's start small. Hence, we begin our analysis using a subset of the columns. Also, since in the original data set, there's only a small percentage of factories that are incorporated, which is because of historical reasons in Late Imperial Russia during 1894 to 1908. For the purpose of this machine learning project, we artificially select a subset of the whole data set so that we have equal number of factories owned by incorporated firms and not incorporated firms alike."
   ]
  },
  {
   "cell_type": "code",
   "execution_count": 8,
   "metadata": {},
   "outputs": [],
   "source": [
    "# Rvss = pd.io.stata.read_stata(\"./../Rvssian/AG_Corp_RuscorpMasterFile_Cleaned.dta\")\n",
    "# Rvss.to_csv(\"RvssianCorpMasterFileCleaned.csv\")"
   ]
  },
  {
   "cell_type": "code",
   "execution_count": 9,
   "metadata": {},
   "outputs": [],
   "source": [
    "# Rvss_data = pd.io.stata.read_stata(\"./AG_Corp_Prod_Database.dta\")\n",
    "# Rvss_data.to_csv(\"AG_Corp_Prod_DataBase.csv\")"
   ]
  },
  {
   "cell_type": "code",
   "execution_count": 10,
   "metadata": {},
   "outputs": [
    {
     "name": "stderr",
     "output_type": "stream",
     "text": [
      "/tmp/ipykernel_28232/139095848.py:1: DtypeWarning: Columns (3,13) have mixed types. Specify dtype option on import or set low_memory=False.\n",
      "  Rvss = pd.read_csv(\"./AG_Corp_Prod_DataBase.csv\")\n"
     ]
    }
   ],
   "source": [
    "Rvss = pd.read_csv(\"./AG_Corp_Prod_DataBase.csv\")"
   ]
  },
  {
   "cell_type": "code",
   "execution_count": 11,
   "metadata": {},
   "outputs": [
    {
     "data": {
      "text/html": [
       "<div>\n",
       "<style scoped>\n",
       "    .dataframe tbody tr th:only-of-type {\n",
       "        vertical-align: middle;\n",
       "    }\n",
       "\n",
       "    .dataframe tbody tr th {\n",
       "        vertical-align: top;\n",
       "    }\n",
       "\n",
       "    .dataframe thead th {\n",
       "        text-align: right;\n",
       "    }\n",
       "</style>\n",
       "<table border=\"1\" class=\"dataframe\">\n",
       "  <thead>\n",
       "    <tr style=\"text-align: right;\">\n",
       "      <th></th>\n",
       "      <th>Unnamed: 0</th>\n",
       "      <th>id</th>\n",
       "      <th>Form</th>\n",
       "      <th>PSZ</th>\n",
       "      <th>PSZ1900</th>\n",
       "      <th>FoundingYear</th>\n",
       "      <th>Province</th>\n",
       "      <th>Region</th>\n",
       "      <th>Industry</th>\n",
       "      <th>OntheSide</th>\n",
       "      <th>...</th>\n",
       "      <th>Animal</th>\n",
       "      <th>Wool</th>\n",
       "      <th>Cotton</th>\n",
       "      <th>MixedMaterials</th>\n",
       "      <th>Wood</th>\n",
       "      <th>Paper</th>\n",
       "      <th>MetalsandMachines</th>\n",
       "      <th>Foods</th>\n",
       "      <th>Chemical</th>\n",
       "      <th>Mineral</th>\n",
       "    </tr>\n",
       "  </thead>\n",
       "  <tbody>\n",
       "    <tr>\n",
       "      <th>0</th>\n",
       "      <td>0</td>\n",
       "      <td>4156</td>\n",
       "      <td>0</td>\n",
       "      <td>NaN</td>\n",
       "      <td>NaN</td>\n",
       "      <td>1860.0</td>\n",
       "      <td>30</td>\n",
       "      <td>CentralIndustrial</td>\n",
       "      <td>Paper</td>\n",
       "      <td>0.0</td>\n",
       "      <td>...</td>\n",
       "      <td>0.0</td>\n",
       "      <td>0.0</td>\n",
       "      <td>0.0</td>\n",
       "      <td>0.0</td>\n",
       "      <td>0.0</td>\n",
       "      <td>0.0</td>\n",
       "      <td>0.0</td>\n",
       "      <td>0.0</td>\n",
       "      <td>0.0</td>\n",
       "      <td>0.0</td>\n",
       "    </tr>\n",
       "    <tr>\n",
       "      <th>1</th>\n",
       "      <td>1</td>\n",
       "      <td>52010</td>\n",
       "      <td>0</td>\n",
       "      <td>NaN</td>\n",
       "      <td>NaN</td>\n",
       "      <td>NaN</td>\n",
       "      <td>51</td>\n",
       "      <td>Previslitskii</td>\n",
       "      <td>Foods A</td>\n",
       "      <td>NaN</td>\n",
       "      <td>...</td>\n",
       "      <td>0.0</td>\n",
       "      <td>0.0</td>\n",
       "      <td>0.0</td>\n",
       "      <td>0.0</td>\n",
       "      <td>0.0</td>\n",
       "      <td>0.0</td>\n",
       "      <td>0.0</td>\n",
       "      <td>1.0</td>\n",
       "      <td>0.0</td>\n",
       "      <td>0.0</td>\n",
       "    </tr>\n",
       "    <tr>\n",
       "      <th>2</th>\n",
       "      <td>2</td>\n",
       "      <td>30937</td>\n",
       "      <td>0</td>\n",
       "      <td>NaN</td>\n",
       "      <td>NaN</td>\n",
       "      <td>NaN</td>\n",
       "      <td>41</td>\n",
       "      <td>CentralBlacksoil</td>\n",
       "      <td>Foods A</td>\n",
       "      <td>NaN</td>\n",
       "      <td>...</td>\n",
       "      <td>0.0</td>\n",
       "      <td>0.0</td>\n",
       "      <td>0.0</td>\n",
       "      <td>0.0</td>\n",
       "      <td>0.0</td>\n",
       "      <td>0.0</td>\n",
       "      <td>0.0</td>\n",
       "      <td>1.0</td>\n",
       "      <td>0.0</td>\n",
       "      <td>0.0</td>\n",
       "    </tr>\n",
       "    <tr>\n",
       "      <th>3</th>\n",
       "      <td>3</td>\n",
       "      <td>39923</td>\n",
       "      <td>0</td>\n",
       "      <td>NaN</td>\n",
       "      <td>NaN</td>\n",
       "      <td>NaN</td>\n",
       "      <td>3</td>\n",
       "      <td>Caucasus</td>\n",
       "      <td>Metals and Machines</td>\n",
       "      <td>NaN</td>\n",
       "      <td>...</td>\n",
       "      <td>0.0</td>\n",
       "      <td>0.0</td>\n",
       "      <td>0.0</td>\n",
       "      <td>0.0</td>\n",
       "      <td>0.0</td>\n",
       "      <td>0.0</td>\n",
       "      <td>1.0</td>\n",
       "      <td>0.0</td>\n",
       "      <td>0.0</td>\n",
       "      <td>0.0</td>\n",
       "    </tr>\n",
       "    <tr>\n",
       "      <th>4</th>\n",
       "      <td>4</td>\n",
       "      <td>3296</td>\n",
       "      <td>0</td>\n",
       "      <td>NaN</td>\n",
       "      <td>NaN</td>\n",
       "      <td>1882.0</td>\n",
       "      <td>11</td>\n",
       "      <td>Northwestern</td>\n",
       "      <td>Chemicals</td>\n",
       "      <td>0.0</td>\n",
       "      <td>...</td>\n",
       "      <td>0.0</td>\n",
       "      <td>0.0</td>\n",
       "      <td>0.0</td>\n",
       "      <td>0.0</td>\n",
       "      <td>0.0</td>\n",
       "      <td>0.0</td>\n",
       "      <td>0.0</td>\n",
       "      <td>0.0</td>\n",
       "      <td>0.0</td>\n",
       "      <td>0.0</td>\n",
       "    </tr>\n",
       "  </tbody>\n",
       "</table>\n",
       "<p>5 rows × 66 columns</p>\n",
       "</div>"
      ],
      "text/plain": [
       "   Unnamed: 0     id  Form  PSZ PSZ1900  FoundingYear  Province   \n",
       "0           0   4156     0  NaN     NaN        1860.0        30  \\\n",
       "1           1  52010     0  NaN     NaN           NaN        51   \n",
       "2           2  30937     0  NaN     NaN           NaN        41   \n",
       "3           3  39923     0  NaN     NaN           NaN         3   \n",
       "4           4   3296     0  NaN     NaN        1882.0        11   \n",
       "\n",
       "              Region             Industry  OntheSide  ...  Animal  Wool   \n",
       "0  CentralIndustrial                Paper        0.0  ...     0.0   0.0  \\\n",
       "1      Previslitskii              Foods A        NaN  ...     0.0   0.0   \n",
       "2   CentralBlacksoil              Foods A        NaN  ...     0.0   0.0   \n",
       "3           Caucasus  Metals and Machines        NaN  ...     0.0   0.0   \n",
       "4       Northwestern            Chemicals        0.0  ...     0.0   0.0   \n",
       "\n",
       "   Cotton MixedMaterials Wood  Paper  MetalsandMachines  Foods  Chemical   \n",
       "0     0.0            0.0  0.0    0.0                0.0    0.0       0.0  \\\n",
       "1     0.0            0.0  0.0    0.0                0.0    1.0       0.0   \n",
       "2     0.0            0.0  0.0    0.0                0.0    1.0       0.0   \n",
       "3     0.0            0.0  0.0    0.0                1.0    0.0       0.0   \n",
       "4     0.0            0.0  0.0    0.0                0.0    0.0       0.0   \n",
       "\n",
       "   Mineral  \n",
       "0      0.0  \n",
       "1      0.0  \n",
       "2      0.0  \n",
       "3      0.0  \n",
       "4      0.0  \n",
       "\n",
       "[5 rows x 66 columns]"
      ]
     },
     "execution_count": 11,
     "metadata": {},
     "output_type": "execute_result"
    }
   ],
   "source": [
    "Rvss.head()"
   ]
  },
  {
   "cell_type": "code",
   "execution_count": 12,
   "metadata": {},
   "outputs": [
    {
     "data": {
      "text/plain": [
       "Index(['Unnamed: 0', 'id', 'Form', 'PSZ', 'PSZ1900', 'FoundingYear',\n",
       "       'Province', 'Region', 'Industry', 'OntheSide', 'Age', 'TaxedActivity',\n",
       "       'YEAR', 'PSZLastYear', 'PSZ1908', 'SubindustryCode', 'STCAP', 'Revenue',\n",
       "       'TotalWorkers', 'TotalPower', 'GrandTotalWorkers', 'RevperWorker',\n",
       "       'PowerperWorker', 'RevperGrandWorker', 'PowerperGrandWorker',\n",
       "       'logRevperWorker', 'logPowerperWorker', 'logRevperGrandWorker',\n",
       "       'logPowerperGrandWorker', 'logRev', 'logWorkers', 'logPower',\n",
       "       'RegIndGroup', 'RegIndYearGroup', 'ProvIndGroup', 'ProvIndYearGroup',\n",
       "       'IndYearGroup', 'IndustryFactor', 'ProvinceFactor', 'YearFactor',\n",
       "       'AKTS', 'PAI', 'factory_id', 'FormNextYear', 'FormNextNextYear',\n",
       "       'FactoryisCorpin1894', 'FormNextYearin1894', 'FactoryisCorpin1900',\n",
       "       'FormNextYearin1900', 'FactoryisCorpin1908', 'NEWDEV', 'SHARES',\n",
       "       'STPRICE', 'BONDS', 'Silk', 'Flax', 'Animal', 'Wool', 'Cotton',\n",
       "       'MixedMaterials', 'Wood', 'Paper', 'MetalsandMachines', 'Foods',\n",
       "       'Chemical', 'Mineral'],\n",
       "      dtype='object')"
      ]
     },
     "execution_count": 12,
     "metadata": {},
     "output_type": "execute_result"
    }
   ],
   "source": [
    "Rvss.columns"
   ]
  },
  {
   "cell_type": "code",
   "execution_count": 13,
   "metadata": {},
   "outputs": [],
   "source": [
    "df = Rvss[['id', 'Form', 'FoundingYear',\n",
    "       'Province', 'Region', 'Industry', 'OntheSide', 'Age', 'TaxedActivity',\n",
    "       'YEAR', 'PSZLastYear', 'PSZ1908', 'SubindustryCode', 'STCAP', 'Revenue',\n",
    "       'TotalWorkers', 'TotalPower', 'GrandTotalWorkers', 'RevperWorker',\n",
    "       'PowerperWorker', 'RevperGrandWorker', 'PowerperGrandWorker',\n",
    "       'logRevperWorker', 'logPowerperWorker', 'logRevperGrandWorker',\n",
    "       'logPowerperGrandWorker', 'logRev', 'logWorkers', 'logPower',\n",
    "       'RegIndGroup', 'RegIndYearGroup', 'ProvIndGroup', 'ProvIndYearGroup',\n",
    "       'IndYearGroup', 'IndustryFactor', 'ProvinceFactor', 'YearFactor',\n",
    "       'AKTS', 'PAI', 'factory_id', 'FormNextYear', 'FormNextNextYear',\n",
    "       'FactoryisCorpin1894', 'FormNextYearin1894', 'FactoryisCorpin1900',\n",
    "       'FormNextYearin1900', 'FactoryisCorpin1908', 'NEWDEV', 'SHARES',\n",
    "       'STPRICE', 'BONDS', 'Silk', 'Flax', 'Animal', 'Wool', 'Cotton',\n",
    "       'MixedMaterials', 'Wood', 'Paper', 'MetalsandMachines', 'Foods',\n",
    "       'Chemical', 'Mineral']]"
   ]
  },
  {
   "cell_type": "code",
   "execution_count": 14,
   "metadata": {},
   "outputs": [],
   "source": [
    "df_inc = df.loc[df['Form'] == 1]"
   ]
  },
  {
   "cell_type": "code",
   "execution_count": 15,
   "metadata": {},
   "outputs": [],
   "source": [
    "df_not_inc = df.loc[df['Form'] == 0]"
   ]
  },
  {
   "cell_type": "code",
   "execution_count": 16,
   "metadata": {},
   "outputs": [
    {
     "name": "stdout",
     "output_type": "stream",
     "text": [
      "df incorporated have 2393 many rows\n"
     ]
    }
   ],
   "source": [
    "print(f\"df incorporated have {df_inc.shape[0]} many rows\")"
   ]
  },
  {
   "cell_type": "code",
   "execution_count": 17,
   "metadata": {},
   "outputs": [],
   "source": [
    "df_not_inc = df_not_inc.sample(n=2393, replace=False)"
   ]
  },
  {
   "cell_type": "code",
   "execution_count": 18,
   "metadata": {},
   "outputs": [
    {
     "name": "stdout",
     "output_type": "stream",
     "text": [
      "df not incorporated have 2393 many rows\n"
     ]
    }
   ],
   "source": [
    "print(f\"df not incorporated have {df_not_inc.shape[0]} many rows\")\n",
    "frames = [df_inc, df_not_inc]\n",
    "result = pd.concat(frames)"
   ]
  },
  {
   "cell_type": "code",
   "execution_count": 19,
   "metadata": {},
   "outputs": [
    {
     "data": {
      "text/plain": [
       "0.5"
      ]
     },
     "execution_count": 19,
     "metadata": {},
     "output_type": "execute_result"
    }
   ],
   "source": [
    "result['Form'].mean()"
   ]
  },
  {
   "cell_type": "code",
   "execution_count": 20,
   "metadata": {},
   "outputs": [],
   "source": [
    "compression_opts = dict(method='zip', archive_name='artificially_balanced_Rvssian_Factory.csv')\n",
    "result.to_csv('artificially_balanced_Rvssian_Factory.zip', index = False, compression=compression_opts)"
   ]
  },
  {
   "cell_type": "code",
   "execution_count": 21,
   "metadata": {},
   "outputs": [],
   "source": [
    "result = result.sample(frac=1).reset_index(drop=True)"
   ]
  },
  {
   "cell_type": "code",
   "execution_count": 22,
   "metadata": {},
   "outputs": [
    {
     "data": {
      "text/html": [
       "<div>\n",
       "<style scoped>\n",
       "    .dataframe tbody tr th:only-of-type {\n",
       "        vertical-align: middle;\n",
       "    }\n",
       "\n",
       "    .dataframe tbody tr th {\n",
       "        vertical-align: top;\n",
       "    }\n",
       "\n",
       "    .dataframe thead th {\n",
       "        text-align: right;\n",
       "    }\n",
       "</style>\n",
       "<table border=\"1\" class=\"dataframe\">\n",
       "  <thead>\n",
       "    <tr style=\"text-align: right;\">\n",
       "      <th></th>\n",
       "      <th>id</th>\n",
       "      <th>Form</th>\n",
       "      <th>FoundingYear</th>\n",
       "      <th>Province</th>\n",
       "      <th>Region</th>\n",
       "      <th>Industry</th>\n",
       "      <th>OntheSide</th>\n",
       "      <th>Age</th>\n",
       "      <th>TaxedActivity</th>\n",
       "      <th>YEAR</th>\n",
       "      <th>...</th>\n",
       "      <th>Animal</th>\n",
       "      <th>Wool</th>\n",
       "      <th>Cotton</th>\n",
       "      <th>MixedMaterials</th>\n",
       "      <th>Wood</th>\n",
       "      <th>Paper</th>\n",
       "      <th>MetalsandMachines</th>\n",
       "      <th>Foods</th>\n",
       "      <th>Chemical</th>\n",
       "      <th>Mineral</th>\n",
       "    </tr>\n",
       "  </thead>\n",
       "  <tbody>\n",
       "    <tr>\n",
       "      <th>0</th>\n",
       "      <td>1761</td>\n",
       "      <td>0</td>\n",
       "      <td>1855.0</td>\n",
       "      <td>14</td>\n",
       "      <td>Eastern</td>\n",
       "      <td>Animal</td>\n",
       "      <td>0.0</td>\n",
       "      <td>40.0</td>\n",
       "      <td>0.0</td>\n",
       "      <td>1894.0</td>\n",
       "      <td>...</td>\n",
       "      <td>0.0</td>\n",
       "      <td>0.0</td>\n",
       "      <td>0.0</td>\n",
       "      <td>0.0</td>\n",
       "      <td>0.0</td>\n",
       "      <td>0.0</td>\n",
       "      <td>0.0</td>\n",
       "      <td>0.0</td>\n",
       "      <td>0.0</td>\n",
       "      <td>0.0</td>\n",
       "    </tr>\n",
       "    <tr>\n",
       "      <th>1</th>\n",
       "      <td>15972</td>\n",
       "      <td>0</td>\n",
       "      <td>1879.0</td>\n",
       "      <td>38</td>\n",
       "      <td>Previslitskii</td>\n",
       "      <td>Metals and Machines</td>\n",
       "      <td>0.0</td>\n",
       "      <td>16.0</td>\n",
       "      <td>0.0</td>\n",
       "      <td>1894.0</td>\n",
       "      <td>...</td>\n",
       "      <td>0.0</td>\n",
       "      <td>0.0</td>\n",
       "      <td>0.0</td>\n",
       "      <td>0.0</td>\n",
       "      <td>0.0</td>\n",
       "      <td>0.0</td>\n",
       "      <td>0.0</td>\n",
       "      <td>0.0</td>\n",
       "      <td>0.0</td>\n",
       "      <td>0.0</td>\n",
       "    </tr>\n",
       "    <tr>\n",
       "      <th>2</th>\n",
       "      <td>18187</td>\n",
       "      <td>1</td>\n",
       "      <td>NaN</td>\n",
       "      <td>50</td>\n",
       "      <td>Prebaltic</td>\n",
       "      <td>Cotton</td>\n",
       "      <td>NaN</td>\n",
       "      <td>41.0</td>\n",
       "      <td>NaN</td>\n",
       "      <td>1900.0</td>\n",
       "      <td>...</td>\n",
       "      <td>0.0</td>\n",
       "      <td>0.0</td>\n",
       "      <td>1.0</td>\n",
       "      <td>0.0</td>\n",
       "      <td>0.0</td>\n",
       "      <td>0.0</td>\n",
       "      <td>0.0</td>\n",
       "      <td>0.0</td>\n",
       "      <td>0.0</td>\n",
       "      <td>0.0</td>\n",
       "    </tr>\n",
       "    <tr>\n",
       "      <th>3</th>\n",
       "      <td>37990</td>\n",
       "      <td>0</td>\n",
       "      <td>NaN</td>\n",
       "      <td>38</td>\n",
       "      <td>Previslitskii</td>\n",
       "      <td>Cotton</td>\n",
       "      <td>NaN</td>\n",
       "      <td>NaN</td>\n",
       "      <td>NaN</td>\n",
       "      <td>1908.0</td>\n",
       "      <td>...</td>\n",
       "      <td>0.0</td>\n",
       "      <td>0.0</td>\n",
       "      <td>1.0</td>\n",
       "      <td>0.0</td>\n",
       "      <td>0.0</td>\n",
       "      <td>0.0</td>\n",
       "      <td>0.0</td>\n",
       "      <td>0.0</td>\n",
       "      <td>0.0</td>\n",
       "      <td>0.0</td>\n",
       "    </tr>\n",
       "    <tr>\n",
       "      <th>4</th>\n",
       "      <td>37</td>\n",
       "      <td>1</td>\n",
       "      <td>1871.0</td>\n",
       "      <td>61</td>\n",
       "      <td>CentralIndustrial</td>\n",
       "      <td>Cotton</td>\n",
       "      <td>0.0</td>\n",
       "      <td>24.0</td>\n",
       "      <td>0.0</td>\n",
       "      <td>1894.0</td>\n",
       "      <td>...</td>\n",
       "      <td>0.0</td>\n",
       "      <td>0.0</td>\n",
       "      <td>0.0</td>\n",
       "      <td>0.0</td>\n",
       "      <td>0.0</td>\n",
       "      <td>0.0</td>\n",
       "      <td>0.0</td>\n",
       "      <td>0.0</td>\n",
       "      <td>0.0</td>\n",
       "      <td>0.0</td>\n",
       "    </tr>\n",
       "    <tr>\n",
       "      <th>5</th>\n",
       "      <td>25136</td>\n",
       "      <td>1</td>\n",
       "      <td>NaN</td>\n",
       "      <td>35</td>\n",
       "      <td>CentralBlacksoil</td>\n",
       "      <td>Mineral Products</td>\n",
       "      <td>NaN</td>\n",
       "      <td>115.0</td>\n",
       "      <td>NaN</td>\n",
       "      <td>1900.0</td>\n",
       "      <td>...</td>\n",
       "      <td>0.0</td>\n",
       "      <td>0.0</td>\n",
       "      <td>0.0</td>\n",
       "      <td>0.0</td>\n",
       "      <td>0.0</td>\n",
       "      <td>0.0</td>\n",
       "      <td>0.0</td>\n",
       "      <td>0.0</td>\n",
       "      <td>0.0</td>\n",
       "      <td>1.0</td>\n",
       "    </tr>\n",
       "    <tr>\n",
       "      <th>6</th>\n",
       "      <td>17880</td>\n",
       "      <td>1</td>\n",
       "      <td>NaN</td>\n",
       "      <td>30</td>\n",
       "      <td>CentralIndustrial</td>\n",
       "      <td>Cotton</td>\n",
       "      <td>NaN</td>\n",
       "      <td>34.0</td>\n",
       "      <td>NaN</td>\n",
       "      <td>1900.0</td>\n",
       "      <td>...</td>\n",
       "      <td>0.0</td>\n",
       "      <td>0.0</td>\n",
       "      <td>1.0</td>\n",
       "      <td>0.0</td>\n",
       "      <td>0.0</td>\n",
       "      <td>0.0</td>\n",
       "      <td>0.0</td>\n",
       "      <td>0.0</td>\n",
       "      <td>0.0</td>\n",
       "      <td>0.0</td>\n",
       "    </tr>\n",
       "    <tr>\n",
       "      <th>7</th>\n",
       "      <td>27039</td>\n",
       "      <td>1</td>\n",
       "      <td>NaN</td>\n",
       "      <td>3</td>\n",
       "      <td>Caucasus</td>\n",
       "      <td>Chemicals</td>\n",
       "      <td>NaN</td>\n",
       "      <td>16.0</td>\n",
       "      <td>NaN</td>\n",
       "      <td>1900.0</td>\n",
       "      <td>...</td>\n",
       "      <td>0.0</td>\n",
       "      <td>0.0</td>\n",
       "      <td>0.0</td>\n",
       "      <td>0.0</td>\n",
       "      <td>0.0</td>\n",
       "      <td>0.0</td>\n",
       "      <td>0.0</td>\n",
       "      <td>0.0</td>\n",
       "      <td>1.0</td>\n",
       "      <td>0.0</td>\n",
       "    </tr>\n",
       "    <tr>\n",
       "      <th>8</th>\n",
       "      <td>40924</td>\n",
       "      <td>1</td>\n",
       "      <td>NaN</td>\n",
       "      <td>30</td>\n",
       "      <td>CentralIndustrial</td>\n",
       "      <td>Metals and Machines</td>\n",
       "      <td>NaN</td>\n",
       "      <td>NaN</td>\n",
       "      <td>NaN</td>\n",
       "      <td>1908.0</td>\n",
       "      <td>...</td>\n",
       "      <td>0.0</td>\n",
       "      <td>0.0</td>\n",
       "      <td>0.0</td>\n",
       "      <td>0.0</td>\n",
       "      <td>0.0</td>\n",
       "      <td>0.0</td>\n",
       "      <td>1.0</td>\n",
       "      <td>0.0</td>\n",
       "      <td>0.0</td>\n",
       "      <td>0.0</td>\n",
       "    </tr>\n",
       "    <tr>\n",
       "      <th>9</th>\n",
       "      <td>25102</td>\n",
       "      <td>0</td>\n",
       "      <td>NaN</td>\n",
       "      <td>32</td>\n",
       "      <td>Northern</td>\n",
       "      <td>Mineral Products</td>\n",
       "      <td>NaN</td>\n",
       "      <td>19.0</td>\n",
       "      <td>NaN</td>\n",
       "      <td>1900.0</td>\n",
       "      <td>...</td>\n",
       "      <td>0.0</td>\n",
       "      <td>0.0</td>\n",
       "      <td>0.0</td>\n",
       "      <td>0.0</td>\n",
       "      <td>0.0</td>\n",
       "      <td>0.0</td>\n",
       "      <td>0.0</td>\n",
       "      <td>0.0</td>\n",
       "      <td>0.0</td>\n",
       "      <td>1.0</td>\n",
       "    </tr>\n",
       "  </tbody>\n",
       "</table>\n",
       "<p>10 rows × 63 columns</p>\n",
       "</div>"
      ],
      "text/plain": [
       "      id  Form  FoundingYear  Province             Region   \n",
       "0   1761     0        1855.0        14            Eastern  \\\n",
       "1  15972     0        1879.0        38      Previslitskii   \n",
       "2  18187     1           NaN        50          Prebaltic   \n",
       "3  37990     0           NaN        38      Previslitskii   \n",
       "4     37     1        1871.0        61  CentralIndustrial   \n",
       "5  25136     1           NaN        35   CentralBlacksoil   \n",
       "6  17880     1           NaN        30  CentralIndustrial   \n",
       "7  27039     1           NaN         3           Caucasus   \n",
       "8  40924     1           NaN        30  CentralIndustrial   \n",
       "9  25102     0           NaN        32           Northern   \n",
       "\n",
       "              Industry  OntheSide    Age  TaxedActivity    YEAR  ... Animal   \n",
       "0               Animal        0.0   40.0            0.0  1894.0  ...    0.0  \\\n",
       "1  Metals and Machines        0.0   16.0            0.0  1894.0  ...    0.0   \n",
       "2               Cotton        NaN   41.0            NaN  1900.0  ...    0.0   \n",
       "3               Cotton        NaN    NaN            NaN  1908.0  ...    0.0   \n",
       "4               Cotton        0.0   24.0            0.0  1894.0  ...    0.0   \n",
       "5     Mineral Products        NaN  115.0            NaN  1900.0  ...    0.0   \n",
       "6               Cotton        NaN   34.0            NaN  1900.0  ...    0.0   \n",
       "7            Chemicals        NaN   16.0            NaN  1900.0  ...    0.0   \n",
       "8  Metals and Machines        NaN    NaN            NaN  1908.0  ...    0.0   \n",
       "9     Mineral Products        NaN   19.0            NaN  1900.0  ...    0.0   \n",
       "\n",
       "  Wool  Cotton  MixedMaterials  Wood  Paper  MetalsandMachines  Foods   \n",
       "0  0.0     0.0             0.0   0.0    0.0                0.0    0.0  \\\n",
       "1  0.0     0.0             0.0   0.0    0.0                0.0    0.0   \n",
       "2  0.0     1.0             0.0   0.0    0.0                0.0    0.0   \n",
       "3  0.0     1.0             0.0   0.0    0.0                0.0    0.0   \n",
       "4  0.0     0.0             0.0   0.0    0.0                0.0    0.0   \n",
       "5  0.0     0.0             0.0   0.0    0.0                0.0    0.0   \n",
       "6  0.0     1.0             0.0   0.0    0.0                0.0    0.0   \n",
       "7  0.0     0.0             0.0   0.0    0.0                0.0    0.0   \n",
       "8  0.0     0.0             0.0   0.0    0.0                1.0    0.0   \n",
       "9  0.0     0.0             0.0   0.0    0.0                0.0    0.0   \n",
       "\n",
       "   Chemical  Mineral  \n",
       "0       0.0      0.0  \n",
       "1       0.0      0.0  \n",
       "2       0.0      0.0  \n",
       "3       0.0      0.0  \n",
       "4       0.0      0.0  \n",
       "5       0.0      1.0  \n",
       "6       0.0      0.0  \n",
       "7       1.0      0.0  \n",
       "8       0.0      0.0  \n",
       "9       0.0      1.0  \n",
       "\n",
       "[10 rows x 63 columns]"
      ]
     },
     "execution_count": 22,
     "metadata": {},
     "output_type": "execute_result"
    }
   ],
   "source": [
    "result.head(10)"
   ]
  },
  {
   "cell_type": "code",
   "execution_count": 23,
   "metadata": {},
   "outputs": [],
   "source": [
    "FP = FinalProject()\n",
    "train, validate, test = FP.split_data(result)"
   ]
  },
  {
   "cell_type": "code",
   "execution_count": 24,
   "metadata": {},
   "outputs": [],
   "source": [
    "df_train, X_train, y_train = FP.prepare_data(train)\n",
    "df_validate, X_validate, y_validate= FP.prepare_data(validate)\n",
    "df_test, X_test, y_test = FP.prepare_data(test)"
   ]
  },
  {
   "attachments": {},
   "cell_type": "markdown",
   "metadata": {},
   "source": [
    "### The Prediction Question:\n",
    "Can we predict which factory belongs to a incorporated company in Late Imerial Russia, during year 1894 and year 1908, by looking at other variables that are in the data? \n",
    "\n",
    "### Data Inspection\n",
    "Since previously we have artificially selected a subset of our entire Russian factory data set so that we have equal number of factories belonging to incorporated firms and not incorporated firms, we expect that our label has roughly $50 \\%$ of $1$'s and $50 \\%$ % of $0$'s."
   ]
  },
  {
   "cell_type": "code",
   "execution_count": 25,
   "metadata": {},
   "outputs": [
    {
     "data": {
      "text/plain": [
       "0.49703935910832464"
      ]
     },
     "execution_count": 25,
     "metadata": {},
     "output_type": "execute_result"
    }
   ],
   "source": [
    "y_train.mean()"
   ]
  },
  {
   "cell_type": "code",
   "execution_count": 26,
   "metadata": {},
   "outputs": [
    {
     "data": {
      "text/html": [
       "<div>\n",
       "<style scoped>\n",
       "    .dataframe tbody tr th:only-of-type {\n",
       "        vertical-align: middle;\n",
       "    }\n",
       "\n",
       "    .dataframe tbody tr th {\n",
       "        vertical-align: top;\n",
       "    }\n",
       "\n",
       "    .dataframe thead tr th {\n",
       "        text-align: left;\n",
       "    }\n",
       "\n",
       "    .dataframe thead tr:last-of-type th {\n",
       "        text-align: right;\n",
       "    }\n",
       "</style>\n",
       "<table border=\"1\" class=\"dataframe\">\n",
       "  <thead>\n",
       "    <tr>\n",
       "      <th></th>\n",
       "      <th colspan=\"2\" halign=\"left\">Form</th>\n",
       "    </tr>\n",
       "    <tr>\n",
       "      <th></th>\n",
       "      <th>mean</th>\n",
       "      <th>len</th>\n",
       "    </tr>\n",
       "    <tr>\n",
       "      <th>Industry</th>\n",
       "      <th></th>\n",
       "      <th></th>\n",
       "    </tr>\n",
       "  </thead>\n",
       "  <tbody>\n",
       "    <tr>\n",
       "      <th>Animal</th>\n",
       "      <td>0.258</td>\n",
       "      <td>178</td>\n",
       "    </tr>\n",
       "    <tr>\n",
       "      <th>Chemicals</th>\n",
       "      <td>0.702</td>\n",
       "      <td>205</td>\n",
       "    </tr>\n",
       "    <tr>\n",
       "      <th>Cotton</th>\n",
       "      <td>0.787</td>\n",
       "      <td>356</td>\n",
       "    </tr>\n",
       "    <tr>\n",
       "      <th>Flax</th>\n",
       "      <td>0.616</td>\n",
       "      <td>86</td>\n",
       "    </tr>\n",
       "    <tr>\n",
       "      <th>Foods A</th>\n",
       "      <td>0.247</td>\n",
       "      <td>453</td>\n",
       "    </tr>\n",
       "    <tr>\n",
       "      <th>Metals and Machines</th>\n",
       "      <td>0.604</td>\n",
       "      <td>485</td>\n",
       "    </tr>\n",
       "    <tr>\n",
       "      <th>Mineral Products</th>\n",
       "      <td>0.428</td>\n",
       "      <td>271</td>\n",
       "    </tr>\n",
       "    <tr>\n",
       "      <th>Mixed Materials</th>\n",
       "      <td>0.507</td>\n",
       "      <td>73</td>\n",
       "    </tr>\n",
       "    <tr>\n",
       "      <th>Paper</th>\n",
       "      <td>0.535</td>\n",
       "      <td>226</td>\n",
       "    </tr>\n",
       "    <tr>\n",
       "      <th>Silk</th>\n",
       "      <td>0.250</td>\n",
       "      <td>56</td>\n",
       "    </tr>\n",
       "    <tr>\n",
       "      <th>Wood</th>\n",
       "      <td>0.422</td>\n",
       "      <td>275</td>\n",
       "    </tr>\n",
       "    <tr>\n",
       "      <th>Wool</th>\n",
       "      <td>0.459</td>\n",
       "      <td>207</td>\n",
       "    </tr>\n",
       "  </tbody>\n",
       "</table>\n",
       "</div>"
      ],
      "text/plain": [
       "                      Form     \n",
       "                      mean  len\n",
       "Industry                       \n",
       "Animal               0.258  178\n",
       "Chemicals            0.702  205\n",
       "Cotton               0.787  356\n",
       "Flax                 0.616   86\n",
       "Foods A              0.247  453\n",
       "Metals and Machines  0.604  485\n",
       "Mineral Products     0.428  271\n",
       "Mixed Materials      0.507   73\n",
       "Paper                0.535  226\n",
       "Silk                 0.250   56\n",
       "Wood                 0.422  275\n",
       "Wool                 0.459  207"
      ]
     },
     "execution_count": 26,
     "metadata": {},
     "output_type": "execute_result"
    }
   ],
   "source": [
    "df_train.groupby(['Industry'])[['Form']].aggregate([np.mean, len]).round(3)"
   ]
  },
  {
   "attachments": {},
   "cell_type": "markdown",
   "metadata": {},
   "source": [
    "Hence, it seems that Food industry in Late Imperial Russia had a low incorporation rate, which is around $28.3 \\%$. On the other hand, the Cotton industry had a relatively high incorporation rate, around $81.4 \\%$."
   ]
  },
  {
   "cell_type": "code",
   "execution_count": 27,
   "metadata": {},
   "outputs": [
    {
     "data": {
      "text/html": [
       "<div>\n",
       "<style scoped>\n",
       "    .dataframe tbody tr th:only-of-type {\n",
       "        vertical-align: middle;\n",
       "    }\n",
       "\n",
       "    .dataframe tbody tr th {\n",
       "        vertical-align: top;\n",
       "    }\n",
       "\n",
       "    .dataframe thead tr th {\n",
       "        text-align: left;\n",
       "    }\n",
       "\n",
       "    .dataframe thead tr:last-of-type th {\n",
       "        text-align: right;\n",
       "    }\n",
       "</style>\n",
       "<table border=\"1\" class=\"dataframe\">\n",
       "  <thead>\n",
       "    <tr>\n",
       "      <th></th>\n",
       "      <th colspan=\"2\" halign=\"left\">TotalPower</th>\n",
       "    </tr>\n",
       "    <tr>\n",
       "      <th></th>\n",
       "      <th>mean</th>\n",
       "      <th>len</th>\n",
       "    </tr>\n",
       "    <tr>\n",
       "      <th>Industry</th>\n",
       "      <th></th>\n",
       "      <th></th>\n",
       "    </tr>\n",
       "  </thead>\n",
       "  <tbody>\n",
       "    <tr>\n",
       "      <th>Animal</th>\n",
       "      <td>37.310</td>\n",
       "      <td>178</td>\n",
       "    </tr>\n",
       "    <tr>\n",
       "      <th>Chemicals</th>\n",
       "      <td>240.731</td>\n",
       "      <td>205</td>\n",
       "    </tr>\n",
       "    <tr>\n",
       "      <th>Cotton</th>\n",
       "      <td>1210.561</td>\n",
       "      <td>356</td>\n",
       "    </tr>\n",
       "    <tr>\n",
       "      <th>Flax</th>\n",
       "      <td>593.383</td>\n",
       "      <td>86</td>\n",
       "    </tr>\n",
       "    <tr>\n",
       "      <th>Foods A</th>\n",
       "      <td>62.312</td>\n",
       "      <td>453</td>\n",
       "    </tr>\n",
       "    <tr>\n",
       "      <th>Metals and Machines</th>\n",
       "      <td>253.363</td>\n",
       "      <td>485</td>\n",
       "    </tr>\n",
       "    <tr>\n",
       "      <th>Mineral Products</th>\n",
       "      <td>121.442</td>\n",
       "      <td>271</td>\n",
       "    </tr>\n",
       "    <tr>\n",
       "      <th>Mixed Materials</th>\n",
       "      <td>97.164</td>\n",
       "      <td>73</td>\n",
       "    </tr>\n",
       "    <tr>\n",
       "      <th>Paper</th>\n",
       "      <td>213.945</td>\n",
       "      <td>226</td>\n",
       "    </tr>\n",
       "    <tr>\n",
       "      <th>Silk</th>\n",
       "      <td>22.500</td>\n",
       "      <td>56</td>\n",
       "    </tr>\n",
       "    <tr>\n",
       "      <th>Wood</th>\n",
       "      <td>63.580</td>\n",
       "      <td>275</td>\n",
       "    </tr>\n",
       "    <tr>\n",
       "      <th>Wool</th>\n",
       "      <td>205.213</td>\n",
       "      <td>207</td>\n",
       "    </tr>\n",
       "  </tbody>\n",
       "</table>\n",
       "</div>"
      ],
      "text/plain": [
       "                    TotalPower     \n",
       "                          mean  len\n",
       "Industry                           \n",
       "Animal                  37.310  178\n",
       "Chemicals              240.731  205\n",
       "Cotton                1210.561  356\n",
       "Flax                   593.383   86\n",
       "Foods A                 62.312  453\n",
       "Metals and Machines    253.363  485\n",
       "Mineral Products       121.442  271\n",
       "Mixed Materials         97.164   73\n",
       "Paper                  213.945  226\n",
       "Silk                    22.500   56\n",
       "Wood                    63.580  275\n",
       "Wool                   205.213  207"
      ]
     },
     "execution_count": 27,
     "metadata": {},
     "output_type": "execute_result"
    }
   ],
   "source": [
    "df_train.groupby(['Industry'])[['TotalPower']].aggregate([np.mean, len]).round(3)"
   ]
  },
  {
   "attachments": {},
   "cell_type": "markdown",
   "metadata": {},
   "source": [
    "We see that Cotton industry has the highest mean total power, and Silk industry has the lowest mean total power. We might predict that industry with a higher need for capital might choose to incorporate. \n",
    "### Running some regressions \n",
    "We start with the standard procedure in Econometrics, which is running regressions. We first perform some regression analysis that is close in spirit to the published paper where this replication data set is coming from, and   "
   ]
  },
  {
   "cell_type": "code",
   "execution_count": 65,
   "metadata": {},
   "outputs": [
    {
     "data": {
      "text/plain": [
       "0.6464646464646465"
      ]
     },
     "execution_count": 65,
     "metadata": {},
     "output_type": "execute_result"
    }
   ],
   "source": [
    "\n",
    "from sklearn.linear_model import LogisticRegression\n",
    "\n",
    "# this counts as 3 features because the two Clutch Completion \n",
    "# columns are transformations of a single original measurement. \n",
    "# you should find a way to automatically select some better columns\n",
    "# as suggested in the code block above\n",
    "cols = [\"id\", \"FoundingYear\", \"Industry\", \"TotalWorkers\", \"TotalPower\", \"GrandTotalWorkers\", \"logWorkers\", \"Mineral\"]\n",
    "cols = ['id', 'FoundingYear',\n",
    "       'Province', 'Region', 'OntheSide', 'Age', 'TaxedActivity',\n",
    "       'YEAR', 'SubindustryCode', 'STCAP', 'Revenue',\n",
    "       'TotalWorkers', 'TotalPower', 'GrandTotalWorkers', 'RevperWorker',\n",
    "       'PowerperWorker', 'RevperGrandWorker', 'PowerperGrandWorker',\n",
    "       'logRevperWorker', 'logPowerperWorker', 'logRevperGrandWorker',\n",
    "       'logPowerperGrandWorker', 'logRev', 'logWorkers', 'logPower',\n",
    "       'RegIndGroup', 'RegIndYearGroup', 'ProvIndGroup', 'ProvIndYearGroup',\n",
    "       'IndYearGroup', 'IndustryFactor', 'ProvinceFactor', 'YearFactor',\n",
    "       'AKTS', 'PAI', 'factory_id', 'FormNextYear', 'FormNextNextYear',\n",
    "       'FactoryisCorpin1894', 'FormNextYearin1894', 'FactoryisCorpin1900',\n",
    "       'FormNextYearin1900', 'FactoryisCorpin1908', 'NEWDEV', 'SHARES',\n",
    "       'STPRICE', 'BONDS', 'Silk', 'Flax', 'Animal', 'Wool', 'Cotton',\n",
    "       'MixedMaterials', 'Wood', 'Paper', 'MetalsandMachines', 'Foods',\n",
    "       'Chemical', 'Mineral']\n",
    "cols = ['id', 'FoundingYear', 'Province', 'OntheSide', 'Age', 'TaxedActivity',\n",
    "       'YEAR', 'PSZLastYear', 'PSZ1908', 'SubindustryCode', 'STCAP', 'Revenue',\n",
    "       'TotalWorkers', 'TotalPower', 'GrandTotalWorkers', 'RevperWorker',\n",
    "       'PowerperWorker', 'RevperGrandWorker', 'PowerperGrandWorker',\n",
    "       'logRevperWorker', 'logPowerperWorker', 'logRevperGrandWorker',\n",
    "       'logPowerperGrandWorker', 'logRev', 'logWorkers', 'logPower',\n",
    "       'RegIndGroup', 'RegIndYearGroup', 'ProvIndGroup', 'ProvIndYearGroup',\n",
    "       'IndYearGroup', 'IndustryFactor', 'ProvinceFactor', 'YearFactor',\n",
    "       'AKTS', 'PAI', 'factory_id', 'FormNextYear', 'FormNextNextYear',\n",
    "       'FactoryisCorpin1894', 'FormNextYearin1894', 'FactoryisCorpin1900',\n",
    "       'FormNextYearin1900', 'FactoryisCorpin1908', 'NEWDEV', 'SHARES',\n",
    "       'STPRICE', 'BONDS', 'Silk', 'Flax', 'Animal', 'Wool', 'Cotton',\n",
    "       'MixedMaterials', 'Wood', 'Paper', 'MetalsandMachines', 'Foods',\n",
    "       'Chemical', 'Mineral']\n",
    "# X_train = X_train.dropna()\n",
    "# X_train = X_train.drop([\"Industry\"], axis=1)\n",
    "# X_train = X_train.drop([\"Region\"], axis=1)\n",
    "# X_train.drop([\"FoundingYear\", \"OntheSide\", \"TaxedActivity\", \"PSZLastYear\", \"PSZ1908\"], axis=1)\n",
    "# X_train = X_train.fillna(0)\n",
    "# y_train.reset_index(drop=True)\n",
    "cols = [\"TotalWorkers\", \"TotalPower\", \"Revenue\", \"Age\", \n",
    "        \"Silk\", \"Flax\", \"Animal\", \"Wool\", \"Cotton\", \"MixedMaterials\", \n",
    "        \"Wood\", \"Paper\", \"MetalsandMachines\", \"Foods\", \"Chemical\", \"Mineral\"]\n",
    "\n",
    "LR = LogisticRegression()\n",
    "LR.fit(X_train[cols], y_train)\n",
    "LR.score(X_train[cols], y_train)"
   ]
  },
  {
   "cell_type": "code",
   "execution_count": 66,
   "metadata": {},
   "outputs": [
    {
     "data": {
      "text/html": [
       "<div>\n",
       "<style scoped>\n",
       "    .dataframe tbody tr th:only-of-type {\n",
       "        vertical-align: middle;\n",
       "    }\n",
       "\n",
       "    .dataframe tbody tr th {\n",
       "        vertical-align: top;\n",
       "    }\n",
       "\n",
       "    .dataframe thead th {\n",
       "        text-align: right;\n",
       "    }\n",
       "</style>\n",
       "<table border=\"1\" class=\"dataframe\">\n",
       "  <thead>\n",
       "    <tr style=\"text-align: right;\">\n",
       "      <th></th>\n",
       "      <th>TotalWorkers</th>\n",
       "      <th>TotalPower</th>\n",
       "      <th>Revenue</th>\n",
       "      <th>Age</th>\n",
       "      <th>Silk</th>\n",
       "      <th>Flax</th>\n",
       "      <th>Animal</th>\n",
       "      <th>Wool</th>\n",
       "      <th>Cotton</th>\n",
       "      <th>MixedMaterials</th>\n",
       "      <th>Wood</th>\n",
       "      <th>Paper</th>\n",
       "      <th>MetalsandMachines</th>\n",
       "      <th>Foods</th>\n",
       "      <th>Chemical</th>\n",
       "      <th>Mineral</th>\n",
       "    </tr>\n",
       "  </thead>\n",
       "  <tbody>\n",
       "    <tr>\n",
       "      <th>2897</th>\n",
       "      <td>50.0</td>\n",
       "      <td>0.0</td>\n",
       "      <td>31400.0</td>\n",
       "      <td>12.0</td>\n",
       "      <td>0.0</td>\n",
       "      <td>0.0</td>\n",
       "      <td>0.0</td>\n",
       "      <td>0.0</td>\n",
       "      <td>0.0</td>\n",
       "      <td>0.0</td>\n",
       "      <td>0.0</td>\n",
       "      <td>0.0</td>\n",
       "      <td>1.0</td>\n",
       "      <td>0.0</td>\n",
       "      <td>0.0</td>\n",
       "      <td>0.0</td>\n",
       "    </tr>\n",
       "    <tr>\n",
       "      <th>4435</th>\n",
       "      <td>22.0</td>\n",
       "      <td>60.0</td>\n",
       "      <td>0.0</td>\n",
       "      <td>0.0</td>\n",
       "      <td>0.0</td>\n",
       "      <td>0.0</td>\n",
       "      <td>0.0</td>\n",
       "      <td>0.0</td>\n",
       "      <td>0.0</td>\n",
       "      <td>0.0</td>\n",
       "      <td>0.0</td>\n",
       "      <td>0.0</td>\n",
       "      <td>0.0</td>\n",
       "      <td>1.0</td>\n",
       "      <td>0.0</td>\n",
       "      <td>0.0</td>\n",
       "    </tr>\n",
       "    <tr>\n",
       "      <th>2309</th>\n",
       "      <td>52.0</td>\n",
       "      <td>0.0</td>\n",
       "      <td>89900.0</td>\n",
       "      <td>0.0</td>\n",
       "      <td>0.0</td>\n",
       "      <td>0.0</td>\n",
       "      <td>0.0</td>\n",
       "      <td>0.0</td>\n",
       "      <td>0.0</td>\n",
       "      <td>0.0</td>\n",
       "      <td>0.0</td>\n",
       "      <td>0.0</td>\n",
       "      <td>0.0</td>\n",
       "      <td>0.0</td>\n",
       "      <td>0.0</td>\n",
       "      <td>0.0</td>\n",
       "    </tr>\n",
       "    <tr>\n",
       "      <th>763</th>\n",
       "      <td>99.0</td>\n",
       "      <td>0.0</td>\n",
       "      <td>207800.0</td>\n",
       "      <td>32.0</td>\n",
       "      <td>0.0</td>\n",
       "      <td>0.0</td>\n",
       "      <td>0.0</td>\n",
       "      <td>0.0</td>\n",
       "      <td>0.0</td>\n",
       "      <td>1.0</td>\n",
       "      <td>0.0</td>\n",
       "      <td>0.0</td>\n",
       "      <td>0.0</td>\n",
       "      <td>0.0</td>\n",
       "      <td>0.0</td>\n",
       "      <td>0.0</td>\n",
       "    </tr>\n",
       "    <tr>\n",
       "      <th>4397</th>\n",
       "      <td>22.0</td>\n",
       "      <td>0.0</td>\n",
       "      <td>18300.0</td>\n",
       "      <td>0.0</td>\n",
       "      <td>0.0</td>\n",
       "      <td>0.0</td>\n",
       "      <td>0.0</td>\n",
       "      <td>0.0</td>\n",
       "      <td>0.0</td>\n",
       "      <td>0.0</td>\n",
       "      <td>0.0</td>\n",
       "      <td>0.0</td>\n",
       "      <td>1.0</td>\n",
       "      <td>0.0</td>\n",
       "      <td>0.0</td>\n",
       "      <td>0.0</td>\n",
       "    </tr>\n",
       "    <tr>\n",
       "      <th>...</th>\n",
       "      <td>...</td>\n",
       "      <td>...</td>\n",
       "      <td>...</td>\n",
       "      <td>...</td>\n",
       "      <td>...</td>\n",
       "      <td>...</td>\n",
       "      <td>...</td>\n",
       "      <td>...</td>\n",
       "      <td>...</td>\n",
       "      <td>...</td>\n",
       "      <td>...</td>\n",
       "      <td>...</td>\n",
       "      <td>...</td>\n",
       "      <td>...</td>\n",
       "      <td>...</td>\n",
       "      <td>...</td>\n",
       "    </tr>\n",
       "    <tr>\n",
       "      <th>575</th>\n",
       "      <td>36.0</td>\n",
       "      <td>0.0</td>\n",
       "      <td>6677.0</td>\n",
       "      <td>1.0</td>\n",
       "      <td>0.0</td>\n",
       "      <td>0.0</td>\n",
       "      <td>0.0</td>\n",
       "      <td>0.0</td>\n",
       "      <td>0.0</td>\n",
       "      <td>0.0</td>\n",
       "      <td>0.0</td>\n",
       "      <td>0.0</td>\n",
       "      <td>0.0</td>\n",
       "      <td>0.0</td>\n",
       "      <td>0.0</td>\n",
       "      <td>0.0</td>\n",
       "    </tr>\n",
       "    <tr>\n",
       "      <th>3790</th>\n",
       "      <td>7.0</td>\n",
       "      <td>0.0</td>\n",
       "      <td>18000.0</td>\n",
       "      <td>19.0</td>\n",
       "      <td>0.0</td>\n",
       "      <td>0.0</td>\n",
       "      <td>0.0</td>\n",
       "      <td>0.0</td>\n",
       "      <td>0.0</td>\n",
       "      <td>0.0</td>\n",
       "      <td>0.0</td>\n",
       "      <td>0.0</td>\n",
       "      <td>1.0</td>\n",
       "      <td>0.0</td>\n",
       "      <td>0.0</td>\n",
       "      <td>0.0</td>\n",
       "    </tr>\n",
       "    <tr>\n",
       "      <th>3980</th>\n",
       "      <td>131.0</td>\n",
       "      <td>0.0</td>\n",
       "      <td>83206.0</td>\n",
       "      <td>0.0</td>\n",
       "      <td>1.0</td>\n",
       "      <td>0.0</td>\n",
       "      <td>0.0</td>\n",
       "      <td>0.0</td>\n",
       "      <td>0.0</td>\n",
       "      <td>0.0</td>\n",
       "      <td>0.0</td>\n",
       "      <td>0.0</td>\n",
       "      <td>0.0</td>\n",
       "      <td>0.0</td>\n",
       "      <td>0.0</td>\n",
       "      <td>0.0</td>\n",
       "    </tr>\n",
       "    <tr>\n",
       "      <th>1706</th>\n",
       "      <td>16.0</td>\n",
       "      <td>2.0</td>\n",
       "      <td>21778.0</td>\n",
       "      <td>0.0</td>\n",
       "      <td>0.0</td>\n",
       "      <td>0.0</td>\n",
       "      <td>0.0</td>\n",
       "      <td>0.0</td>\n",
       "      <td>0.0</td>\n",
       "      <td>0.0</td>\n",
       "      <td>0.0</td>\n",
       "      <td>1.0</td>\n",
       "      <td>0.0</td>\n",
       "      <td>0.0</td>\n",
       "      <td>0.0</td>\n",
       "      <td>0.0</td>\n",
       "    </tr>\n",
       "    <tr>\n",
       "      <th>3471</th>\n",
       "      <td>317.0</td>\n",
       "      <td>250.0</td>\n",
       "      <td>451032.0</td>\n",
       "      <td>0.0</td>\n",
       "      <td>0.0</td>\n",
       "      <td>0.0</td>\n",
       "      <td>0.0</td>\n",
       "      <td>0.0</td>\n",
       "      <td>0.0</td>\n",
       "      <td>1.0</td>\n",
       "      <td>0.0</td>\n",
       "      <td>0.0</td>\n",
       "      <td>0.0</td>\n",
       "      <td>0.0</td>\n",
       "      <td>0.0</td>\n",
       "      <td>0.0</td>\n",
       "    </tr>\n",
       "  </tbody>\n",
       "</table>\n",
       "<p>2871 rows × 16 columns</p>\n",
       "</div>"
      ],
      "text/plain": [
       "      TotalWorkers  TotalPower   Revenue   Age  Silk  Flax  Animal  Wool   \n",
       "2897          50.0         0.0   31400.0  12.0   0.0   0.0     0.0   0.0  \\\n",
       "4435          22.0        60.0       0.0   0.0   0.0   0.0     0.0   0.0   \n",
       "2309          52.0         0.0   89900.0   0.0   0.0   0.0     0.0   0.0   \n",
       "763           99.0         0.0  207800.0  32.0   0.0   0.0     0.0   0.0   \n",
       "4397          22.0         0.0   18300.0   0.0   0.0   0.0     0.0   0.0   \n",
       "...            ...         ...       ...   ...   ...   ...     ...   ...   \n",
       "575           36.0         0.0    6677.0   1.0   0.0   0.0     0.0   0.0   \n",
       "3790           7.0         0.0   18000.0  19.0   0.0   0.0     0.0   0.0   \n",
       "3980         131.0         0.0   83206.0   0.0   1.0   0.0     0.0   0.0   \n",
       "1706          16.0         2.0   21778.0   0.0   0.0   0.0     0.0   0.0   \n",
       "3471         317.0       250.0  451032.0   0.0   0.0   0.0     0.0   0.0   \n",
       "\n",
       "      Cotton  MixedMaterials  Wood  Paper  MetalsandMachines  Foods  Chemical   \n",
       "2897     0.0             0.0   0.0    0.0                1.0    0.0       0.0  \\\n",
       "4435     0.0             0.0   0.0    0.0                0.0    1.0       0.0   \n",
       "2309     0.0             0.0   0.0    0.0                0.0    0.0       0.0   \n",
       "763      0.0             1.0   0.0    0.0                0.0    0.0       0.0   \n",
       "4397     0.0             0.0   0.0    0.0                1.0    0.0       0.0   \n",
       "...      ...             ...   ...    ...                ...    ...       ...   \n",
       "575      0.0             0.0   0.0    0.0                0.0    0.0       0.0   \n",
       "3790     0.0             0.0   0.0    0.0                1.0    0.0       0.0   \n",
       "3980     0.0             0.0   0.0    0.0                0.0    0.0       0.0   \n",
       "1706     0.0             0.0   0.0    1.0                0.0    0.0       0.0   \n",
       "3471     0.0             1.0   0.0    0.0                0.0    0.0       0.0   \n",
       "\n",
       "      Mineral  \n",
       "2897      0.0  \n",
       "4435      0.0  \n",
       "2309      0.0  \n",
       "763       0.0  \n",
       "4397      0.0  \n",
       "...       ...  \n",
       "575       0.0  \n",
       "3790      0.0  \n",
       "3980      0.0  \n",
       "1706      0.0  \n",
       "3471      0.0  \n",
       "\n",
       "[2871 rows x 16 columns]"
      ]
     },
     "execution_count": 66,
     "metadata": {},
     "output_type": "execute_result"
    }
   ],
   "source": [
    "X_train[cols]"
   ]
  },
  {
   "cell_type": "code",
   "execution_count": 68,
   "metadata": {},
   "outputs": [
    {
     "data": {
      "text/html": [
       "<div>\n",
       "<style scoped>\n",
       "    .dataframe tbody tr th:only-of-type {\n",
       "        vertical-align: middle;\n",
       "    }\n",
       "\n",
       "    .dataframe tbody tr th {\n",
       "        vertical-align: top;\n",
       "    }\n",
       "\n",
       "    .dataframe thead th {\n",
       "        text-align: right;\n",
       "    }\n",
       "</style>\n",
       "<table border=\"1\" class=\"dataframe\">\n",
       "  <thead>\n",
       "    <tr style=\"text-align: right;\">\n",
       "      <th></th>\n",
       "      <th>column</th>\n",
       "      <th>coefficient</th>\n",
       "    </tr>\n",
       "  </thead>\n",
       "  <tbody>\n",
       "    <tr>\n",
       "      <th>0</th>\n",
       "      <td>TotalWorkers</td>\n",
       "      <td>0.002543</td>\n",
       "    </tr>\n",
       "    <tr>\n",
       "      <th>1</th>\n",
       "      <td>TotalPower</td>\n",
       "      <td>-0.000432</td>\n",
       "    </tr>\n",
       "    <tr>\n",
       "      <th>2</th>\n",
       "      <td>Revenue</td>\n",
       "      <td>0.000001</td>\n",
       "    </tr>\n",
       "    <tr>\n",
       "      <th>3</th>\n",
       "      <td>Age</td>\n",
       "      <td>-0.018715</td>\n",
       "    </tr>\n",
       "    <tr>\n",
       "      <th>4</th>\n",
       "      <td>Silk</td>\n",
       "      <td>-0.000046</td>\n",
       "    </tr>\n",
       "    <tr>\n",
       "      <th>5</th>\n",
       "      <td>Flax</td>\n",
       "      <td>-0.000030</td>\n",
       "    </tr>\n",
       "    <tr>\n",
       "      <th>6</th>\n",
       "      <td>Animal</td>\n",
       "      <td>-0.000121</td>\n",
       "    </tr>\n",
       "    <tr>\n",
       "      <th>7</th>\n",
       "      <td>Wool</td>\n",
       "      <td>-0.000127</td>\n",
       "    </tr>\n",
       "    <tr>\n",
       "      <th>8</th>\n",
       "      <td>Cotton</td>\n",
       "      <td>-0.000055</td>\n",
       "    </tr>\n",
       "    <tr>\n",
       "      <th>9</th>\n",
       "      <td>MixedMaterials</td>\n",
       "      <td>-0.000012</td>\n",
       "    </tr>\n",
       "    <tr>\n",
       "      <th>10</th>\n",
       "      <td>Wood</td>\n",
       "      <td>-0.000116</td>\n",
       "    </tr>\n",
       "    <tr>\n",
       "      <th>11</th>\n",
       "      <td>Paper</td>\n",
       "      <td>-0.000052</td>\n",
       "    </tr>\n",
       "    <tr>\n",
       "      <th>12</th>\n",
       "      <td>MetalsandMachines</td>\n",
       "      <td>0.000021</td>\n",
       "    </tr>\n",
       "    <tr>\n",
       "      <th>13</th>\n",
       "      <td>Foods</td>\n",
       "      <td>-0.000339</td>\n",
       "    </tr>\n",
       "    <tr>\n",
       "      <th>14</th>\n",
       "      <td>Chemical</td>\n",
       "      <td>0.000071</td>\n",
       "    </tr>\n",
       "    <tr>\n",
       "      <th>15</th>\n",
       "      <td>Mineral</td>\n",
       "      <td>-0.000141</td>\n",
       "    </tr>\n",
       "  </tbody>\n",
       "</table>\n",
       "</div>"
      ],
      "text/plain": [
       "               column  coefficient\n",
       "0        TotalWorkers     0.002543\n",
       "1          TotalPower    -0.000432\n",
       "2             Revenue     0.000001\n",
       "3                 Age    -0.018715\n",
       "4                Silk    -0.000046\n",
       "5                Flax    -0.000030\n",
       "6              Animal    -0.000121\n",
       "7                Wool    -0.000127\n",
       "8              Cotton    -0.000055\n",
       "9      MixedMaterials    -0.000012\n",
       "10               Wood    -0.000116\n",
       "11              Paper    -0.000052\n",
       "12  MetalsandMachines     0.000021\n",
       "13              Foods    -0.000339\n",
       "14           Chemical     0.000071\n",
       "15            Mineral    -0.000141"
      ]
     },
     "execution_count": 68,
     "metadata": {},
     "output_type": "execute_result"
    }
   ],
   "source": [
    "pd.DataFrame({\n",
    "    \"column\": X_train[cols].columns,\n",
    "    \"coefficient\": LR.coef_.ravel()\n",
    "})"
   ]
  },
  {
   "cell_type": "code",
   "execution_count": 69,
   "metadata": {},
   "outputs": [],
   "source": [
    "from sklearn.preprocessing import PolynomialFeatures\n",
    "from sklearn.pipeline import Pipeline"
   ]
  },
  {
   "cell_type": "code",
   "execution_count": 70,
   "metadata": {},
   "outputs": [],
   "source": [
    "def poly_LR(deg):\n",
    "    return Pipeline([(\"poly\", PolynomialFeatures(degree=deg)),\n",
    "                     (\"LR\", LogisticRegression(penalty=\"none\", max_iter=int(1e3)))])"
   ]
  },
  {
   "cell_type": "code",
   "execution_count": 91,
   "metadata": {},
   "outputs": [
    {
     "name": "stderr",
     "output_type": "stream",
     "text": [
      "/home/xianzhiwang/miniforge3/envs/ml-0451/lib/python3.9/site-packages/sklearn/linear_model/_logistic.py:1173: FutureWarning: `penalty='none'`has been deprecated in 1.2 and will be removed in 1.4. To keep the past behaviour, set `penalty=None`.\n",
      "  warnings.warn(\n"
     ]
    },
    {
     "data": {
      "text/plain": [
       "0.6509926854754441"
      ]
     },
     "execution_count": 91,
     "metadata": {},
     "output_type": "execute_result"
    }
   ],
   "source": [
    "plr = poly_LR(1)\n",
    "plr.fit(X_train[cols], y_train)\n",
    "plr.score(X_train[cols], y_train)"
   ]
  },
  {
   "cell_type": "code",
   "execution_count": null,
   "metadata": {},
   "outputs": [],
   "source": []
  },
  {
   "cell_type": "code",
   "execution_count": 85,
   "metadata": {},
   "outputs": [
    {
     "name": "stderr",
     "output_type": "stream",
     "text": [
      "/home/xianzhiwang/miniforge3/envs/ml-0451/lib/python3.9/site-packages/sklearn/linear_model/_logistic.py:1173: FutureWarning: `penalty='none'`has been deprecated in 1.2 and will be removed in 1.4. To keep the past behaviour, set `penalty=None`.\n",
      "  warnings.warn(\n",
      "/home/xianzhiwang/miniforge3/envs/ml-0451/lib/python3.9/site-packages/sklearn/linear_model/_logistic.py:1173: FutureWarning: `penalty='none'`has been deprecated in 1.2 and will be removed in 1.4. To keep the past behaviour, set `penalty=None`.\n",
      "  warnings.warn(\n",
      "/home/xianzhiwang/miniforge3/envs/ml-0451/lib/python3.9/site-packages/sklearn/linear_model/_logistic.py:1173: FutureWarning: `penalty='none'`has been deprecated in 1.2 and will be removed in 1.4. To keep the past behaviour, set `penalty=None`.\n",
      "  warnings.warn(\n",
      "/home/xianzhiwang/miniforge3/envs/ml-0451/lib/python3.9/site-packages/sklearn/linear_model/_logistic.py:1173: FutureWarning: `penalty='none'`has been deprecated in 1.2 and will be removed in 1.4. To keep the past behaviour, set `penalty=None`.\n",
      "  warnings.warn(\n",
      "/home/xianzhiwang/miniforge3/envs/ml-0451/lib/python3.9/site-packages/sklearn/linear_model/_logistic.py:1173: FutureWarning: `penalty='none'`has been deprecated in 1.2 and will be removed in 1.4. To keep the past behaviour, set `penalty=None`.\n",
      "  warnings.warn(\n"
     ]
    },
    {
     "data": {
      "text/plain": [
       "array([0.62782609, 0.5       , 0.64634146, 0.50696864, 0.6445993 ])"
      ]
     },
     "execution_count": 85,
     "metadata": {},
     "output_type": "execute_result"
    }
   ],
   "source": [
    "from sklearn.model_selection import cross_val_score\n",
    "cv_scores = cross_val_score(plr, X_train[cols], y_train, cv=5)\n",
    "cv_scores"
   ]
  },
  {
   "cell_type": "code",
   "execution_count": 86,
   "metadata": {},
   "outputs": [
    {
     "data": {
      "text/plain": [
       "0.5851470989244054"
      ]
     },
     "execution_count": 86,
     "metadata": {},
     "output_type": "execute_result"
    }
   ],
   "source": [
    "cv_scores.mean()"
   ]
  },
  {
   "attachments": {},
   "cell_type": "markdown",
   "metadata": {},
   "source": [
    "Hence, this is telling us that for the features we selected, polynomial logistic regression has roughly the same predictive power as simply guessing whether a factory is belonging to a corporation or not. Degree zero corresponds to the baseline model, and degree 1 corresponds to simple logistic regression without a polynomial feature map."
   ]
  },
  {
   "cell_type": "code",
   "execution_count": null,
   "metadata": {},
   "outputs": [],
   "source": [
    "for deg in range(3):\n",
    "    plr = poly_LR(deg = deg)\n",
    "    cv_scores = cross_val_score(plr, X_train[cols], y_train, cv=5)\n",
    "    mean_score = cv_scores.mean()  \n",
    "    print(f\"Polynomial degree = {deg}, score = {mean_score.round(3)}\")"
   ]
  },
  {
   "cell_type": "code",
   "execution_count": 87,
   "metadata": {},
   "outputs": [
    {
     "data": {
      "text/plain": [
       "0.6378"
      ]
     },
     "execution_count": 87,
     "metadata": {},
     "output_type": "execute_result"
    }
   ],
   "source": [
    "X_test = X_test.fillna(0)\n",
    "plr.score(X_test[cols], y_test).round(4)"
   ]
  },
  {
   "cell_type": "code",
   "execution_count": 96,
   "metadata": {},
   "outputs": [
    {
     "data": {
      "text/plain": [
       "array([[201, 304],\n",
       "       [ 43, 410]])"
      ]
     },
     "execution_count": 96,
     "metadata": {},
     "output_type": "execute_result"
    }
   ],
   "source": [
    "from sklearn.metrics import confusion_matrix\n",
    "y_predict = plr.predict(X_test[cols])\n",
    "confusion_matrix(y_test, y_predict)"
   ]
  },
  {
   "cell_type": "code",
   "execution_count": 97,
   "metadata": {},
   "outputs": [
    {
     "data": {
      "text/plain": [
       "array([[0.3980198 , 0.6019802 ],\n",
       "       [0.09492274, 0.90507726]])"
      ]
     },
     "execution_count": 97,
     "metadata": {},
     "output_type": "execute_result"
    }
   ],
   "source": [
    "confusion_matrix(y_test, y_predict, normalize = \"true\")"
   ]
  },
  {
   "cell_type": "code",
   "execution_count": 98,
   "metadata": {},
   "outputs": [
    {
     "data": {
      "text/plain": [
       "0.6348312793559499"
      ]
     },
     "execution_count": 98,
     "metadata": {},
     "output_type": "execute_result"
    }
   ],
   "source": [
    "X_test[\"PowerperWorker\"].mean()"
   ]
  },
  {
   "cell_type": "code",
   "execution_count": 100,
   "metadata": {},
   "outputs": [
    {
     "name": "stdout",
     "output_type": "stream",
     "text": [
      "Factories with more power per worker\n",
      "The percentage our prediction is correct: 0.618421052631579\n"
     ]
    },
    {
     "data": {
      "text/plain": [
       "array([[0.23584906, 0.76415094],\n",
       "       [0.04918033, 0.95081967]])"
      ]
     },
     "execution_count": 100,
     "metadata": {},
     "output_type": "execute_result"
    }
   ],
   "source": [
    "ix = X_test[\"PowerperWorker\"] > 0.63483127\n",
    "print(\"Factories with more power per worker than average\")\n",
    "print(f\"The percentage our prediction is correct: {(y_test[ix] == y_predict[ix]).mean()}\")\n",
    "confusion_matrix(y_test[ix], y_predict[ix], normalize=\"true\")"
   ]
  },
  {
   "cell_type": "code",
   "execution_count": 102,
   "metadata": {},
   "outputs": [
    {
     "name": "stdout",
     "output_type": "stream",
     "text": [
      "Factories with less power per worker than average\n",
      "The percentage our prediction matches the actual label: 0.6438356164383562\n"
     ]
    },
    {
     "data": {
      "text/plain": [
       "array([[0.44110276, 0.55889724],\n",
       "       [0.11178248, 0.88821752]])"
      ]
     },
     "execution_count": 102,
     "metadata": {},
     "output_type": "execute_result"
    }
   ],
   "source": [
    "\n",
    "ix = X_test[\"PowerperWorker\"] < 0.63483127\n",
    "print(\"Factories with less power per worker than average\")\n",
    "print(f\"The percentage our prediction matches the actual label: {(y_test[ix] == y_predict[ix]).mean()}\")\n",
    "confusion_matrix(y_test[ix], y_predict[ix], normalize=\"true\")"
   ]
  },
  {
   "cell_type": "code",
   "execution_count": 105,
   "metadata": {},
   "outputs": [
    {
     "data": {
      "text/plain": [
       "827     0\n",
       "984     0\n",
       "4758    0\n",
       "4420    1\n",
       "3908    1\n",
       "       ..\n",
       "130     0\n",
       "2919    1\n",
       "3171    0\n",
       "4426    1\n",
       "860     0\n",
       "Name: Form, Length: 228, dtype: int64"
      ]
     },
     "execution_count": 105,
     "metadata": {},
     "output_type": "execute_result"
    }
   ],
   "source": [
    "y_test[X_test[\"PowerperWorker\"] > 0.63483127]"
   ]
  },
  {
   "cell_type": "code",
   "execution_count": 104,
   "metadata": {},
   "outputs": [
    {
     "data": {
      "text/plain": [
       "126     0\n",
       "3950    0\n",
       "2935    1\n",
       "3204    0\n",
       "1347    0\n",
       "       ..\n",
       "4426    1\n",
       "466     1\n",
       "3092    0\n",
       "3772    0\n",
       "860     0\n",
       "Name: Form, Length: 958, dtype: int64"
      ]
     },
     "execution_count": 104,
     "metadata": {},
     "output_type": "execute_result"
    }
   ],
   "source": [
    "y_test"
   ]
  }
 ],
 "metadata": {
  "kernelspec": {
   "display_name": "Python 3.9.16 ('ml-0451')",
   "language": "python",
   "name": "python3"
  },
  "language_info": {
   "codemirror_mode": {
    "name": "ipython",
    "version": 3
   },
   "file_extension": ".py",
   "mimetype": "text/x-python",
   "name": "python",
   "nbconvert_exporter": "python",
   "pygments_lexer": "ipython3",
   "version": "3.9.16"
  },
  "vscode": {
   "interpreter": {
    "hash": "828d98d954e87c2b5b44e0a5cfd805247874b19ac6d7df6603713eaf15bc89d5"
   }
  }
 },
 "nbformat": 4,
 "nbformat_minor": 4
}
