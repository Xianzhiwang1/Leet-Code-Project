{
 "cells": [
  {
   "cell_type": "raw",
   "metadata": {},
   "source": [
    "---\n",
    "title: ML Final Project \n",
    "author: Xianzhi and Prateek \n",
    "date: '2023-04-20'\n",
    "image: \"image.jpg\"\n",
    "description: \"Final Project on prediction of productivity on Middlebury, Vermont farms in 1850 and 1860\"\n",
    "format: html\n",
    "---"
   ]
  },
  {
   "attachments": {},
   "cell_type": "markdown",
   "metadata": {},
   "source": [
    "This is an example of the blog posts that you'll submit as your primary form of learning demonstration in CSCI 0451. I created this post by modifying the file `posts/example-blog-post/index.ipynb` in VSCode. You can also use JupyterLab for this editing if you prefer. Finally, it is possible to write blog posts without using notebooks by writing `.qmd` files, as illustrated [here](https://quarto.org/docs/get-started/hello/vscode.html). \n",
    "\n"
   ]
  },
  {
   "attachments": {},
   "cell_type": "markdown",
   "metadata": {},
   "source": [
    "# Rough skeleton code taken from the penguin blog post"
   ]
  },
  {
   "cell_type": "code",
   "execution_count": 1,
   "metadata": {},
   "outputs": [],
   "source": [
    "from matplotlib import pyplot as plt\n",
    "import numpy as np\n"
   ]
  },
  {
   "cell_type": "code",
   "execution_count": 5,
   "metadata": {},
   "outputs": [],
   "source": [
    "import pandas as pd\n",
    "\n",
    "train_url = \"https://raw.githubusercontent.com/middlebury-csci-0451/CSCI-0451/main/data/palmer-penguins/train.csv\"\n",
    "train = pd.read_csv(train_url)"
   ]
  },
  {
   "cell_type": "code",
   "execution_count": 6,
   "metadata": {},
   "outputs": [],
   "source": [
    "from sklearn.preprocessing import LabelEncoder\n",
    "le = LabelEncoder()\n",
    "le.fit(train[\"Species\"])\n",
    "\n",
    "def prepare_data(df):\n",
    "  df = df.drop([\"studyName\", \"Sample Number\", \"Individual ID\", \"Date Egg\", \"Comments\", \"Region\"], axis = 1)\n",
    "  df = df[df[\"Sex\"] != \".\"]\n",
    "  df = df.dropna()\n",
    "  y = le.transform(df[\"Species\"])\n",
    "  df = df.drop([\"Species\"], axis = 1)\n",
    "  df = pd.get_dummies(df)\n",
    "  return df, y\n",
    "\n",
    "X_train, y_train = prepare_data(train)"
   ]
  },
  {
   "cell_type": "code",
   "execution_count": 7,
   "metadata": {},
   "outputs": [
    {
     "name": "stdout",
     "output_type": "stream",
     "text": [
      "['Clutch Completion_No', 'Clutch Completion_Yes', 'Culmen Length (mm)', 'Culmen Depth (mm)']\n",
      "['Clutch Completion_No', 'Clutch Completion_Yes', 'Culmen Length (mm)', 'Flipper Length (mm)']\n",
      "['Clutch Completion_No', 'Clutch Completion_Yes', 'Culmen Depth (mm)', 'Flipper Length (mm)']\n",
      "['Sex_FEMALE', 'Sex_MALE', 'Culmen Length (mm)', 'Culmen Depth (mm)']\n",
      "['Sex_FEMALE', 'Sex_MALE', 'Culmen Length (mm)', 'Flipper Length (mm)']\n",
      "['Sex_FEMALE', 'Sex_MALE', 'Culmen Depth (mm)', 'Flipper Length (mm)']\n"
     ]
    }
   ],
   "source": [
    "from itertools import combinations\n",
    "\n",
    "# these are not actually all the columns: you'll \n",
    "# need to add any of the other ones you want to search for\n",
    "all_qual_cols = [\"Clutch Completion\", \"Sex\"]\n",
    "all_quant_cols = ['Culmen Length (mm)', 'Culmen Depth (mm)', 'Flipper Length (mm)']\n",
    "\n",
    "for qual in all_qual_cols: \n",
    "  qual_cols = [col for col in X_train.columns if qual in col ]\n",
    "  for pair in combinations(all_quant_cols, 2):\n",
    "    cols = qual_cols + list(pair) \n",
    "    print(cols)\n",
    "    # you could train models and score them here, keeping the list of \n",
    "    # columns for the model that has the best score. \n",
    "    # "
   ]
  },
  {
   "cell_type": "code",
   "execution_count": 8,
   "metadata": {},
   "outputs": [
    {
     "data": {
      "text/plain": [
       "0.6640625"
      ]
     },
     "execution_count": 8,
     "metadata": {},
     "output_type": "execute_result"
    }
   ],
   "source": [
    "from sklearn.linear_model import LogisticRegression\n",
    "\n",
    "# this counts as 3 features because the two Clutch Completion \n",
    "# columns are transformations of a single original measurement. \n",
    "# you should find a way to automatically select some better columns\n",
    "# as suggested in the code block above\n",
    "cols = [\"Flipper Length (mm)\", \"Body Mass (g)\", \"Clutch Completion_No\", \"Clutch Completion_Yes\"]\n",
    "\n",
    "LR = LogisticRegression()\n",
    "LR.fit(X_train[cols], y_train)\n",
    "LR.score(X_train[cols], y_train)"
   ]
  },
  {
   "cell_type": "code",
   "execution_count": 9,
   "metadata": {},
   "outputs": [],
   "source": [
    "from matplotlib.patches import Patch\n",
    "\n",
    "def plot_regions(model, X, y):\n",
    "    \n",
    "    x0 = X[X.columns[0]]\n",
    "    x1 = X[X.columns[1]]\n",
    "    qual_features = X.columns[2:]\n",
    "    \n",
    "    fig, axarr = plt.subplots(1, len(qual_features), figsize = (7, 3))\n",
    "\n",
    "    # create a grid\n",
    "    grid_x = np.linspace(x0.min(),x0.max(),501)\n",
    "    grid_y = np.linspace(x1.min(),x1.max(),501)\n",
    "    xx, yy = np.meshgrid(grid_x, grid_y)\n",
    "    \n",
    "    XX = xx.ravel()\n",
    "    YY = yy.ravel()\n",
    "\n",
    "    for i in range(len(qual_features)):\n",
    "      XY = pd.DataFrame({\n",
    "          X.columns[0] : XX,\n",
    "          X.columns[1] : YY\n",
    "      })\n",
    "\n",
    "      for j in qual_features:\n",
    "        XY[j] = 0\n",
    "\n",
    "      XY[qual_features[i]] = 1\n",
    "\n",
    "      p = model.predict(XY)\n",
    "      p = p.reshape(xx.shape)\n",
    "      \n",
    "      \n",
    "      # use contour plot to visualize the predictions\n",
    "      axarr[i].contourf(xx, yy, p, cmap = \"jet\", alpha = 0.2, vmin = 0, vmax = 2)\n",
    "      \n",
    "      ix = X[qual_features[i]] == 1\n",
    "      # plot the data\n",
    "      axarr[i].scatter(x0[ix], x1[ix], c = y[ix], cmap = \"jet\", vmin = 0, vmax = 2)\n",
    "      \n",
    "      axarr[i].set(xlabel = X.columns[0], \n",
    "            ylabel  = X.columns[1])\n",
    "      \n",
    "      patches = []\n",
    "      for color, spec in zip([\"red\", \"green\", \"blue\"], [\"Adelie\", \"Chinstrap\", \"Gentoo\"]):\n",
    "        patches.append(Patch(color = color, label = spec))\n",
    "\n",
    "      plt.legend(title = \"Species\", handles = patches, loc = \"best\")\n",
    "      \n",
    "      plt.tight_layout()"
   ]
  },
  {
   "cell_type": "markdown",
   "metadata": {},
   "source": [
    "Another thing we'll often do is implement an algorithm in a source file (i.e. a `.py` file) and then *use* it in a notebook. To do this, just place the `.py` file in the same directory as the notebook. For example, the file `source.py` in the same directory contains a custom function (which prints a message). I can use like this: "
   ]
  },
  {
   "cell_type": "code",
   "execution_count": 10,
   "metadata": {},
   "outputs": [
    {
     "name": "stdout",
     "output_type": "stream",
     "text": [
      "I implemented this function in the file source.py\n"
     ]
    }
   ],
   "source": [
    "import source \n",
    "source.my_custom_function()"
   ]
  },
  {
   "cell_type": "markdown",
   "metadata": {},
   "source": [
    "# Markdown\n",
    "\n",
    "You can use Markdown syntax to write text in Markdown cells. Markdown allows you to create simple text formatting like bullets, italics, and section headers. The Quarto [description of markdown basics](https://quarto.org/docs/authoring/markdown-basics.html) has everything you need to get started. \n",
    "\n",
    "## Math\n",
    "\n",
    "In addition to regular text using the Markdown specification, you can also write mathematics, enclosed between dollar signs. The syntax for writing math is very similar to the syntax used in the $\\LaTeX$ markup language. For example, `$f(x) \\approx y$` renders to $f(x) \\approx y$. To place complex mathematical expressions on their own lines, use double dollar signs. For example, the expression \n",
    "\n",
    "`$$\\mathcal{L}(a, b) = \\sum_{i = 1}^n (ax_i + b - y_i)^2$$` \n",
    "\n",
    "renders to: \n",
    "\n",
    "$$\\mathcal{L}(a, b) = \\sum_{i = 1}^n (ax_i + b - y_i)^2\\;.$$\n",
    "\n",
    "Behind the scenes, math is powered by the MathJax engine. For more on how to write math, check this handy [tutorial and quick reference](https://math.meta.stackexchange.com/questions/5020/mathjax-basic-tutorial-and-quick-reference). "
   ]
  },
  {
   "cell_type": "markdown",
   "metadata": {},
   "source": []
  }
 ],
 "metadata": {
  "kernelspec": {
   "display_name": "Python 3.9.16 ('ml-0451')",
   "language": "python",
   "name": "python3"
  },
  "language_info": {
   "codemirror_mode": {
    "name": "ipython",
    "version": 3
   },
   "file_extension": ".py",
   "mimetype": "text/x-python",
   "name": "python",
   "nbconvert_exporter": "python",
   "pygments_lexer": "ipython3",
   "version": "3.9.16"
  },
  "vscode": {
   "interpreter": {
    "hash": "828d98d954e87c2b5b44e0a5cfd805247874b19ac6d7df6603713eaf15bc89d5"
   }
  }
 },
 "nbformat": 4,
 "nbformat_minor": 4
}
